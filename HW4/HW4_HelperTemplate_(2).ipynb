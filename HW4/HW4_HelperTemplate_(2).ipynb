{
  "cells": [
    {
      "cell_type": "code",
      "execution_count": 59,
      "metadata": {
        "id": "p5dL4YeVorzV"
      },
      "outputs": [],
      "source": [
        "import numpy as np\n",
        "import torch\n",
        "from torch import nn\n",
        "import tqdm"
      ]
    },
    {
      "cell_type": "code",
      "execution_count": 60,
      "metadata": {
        "id": "gM5vtiuGJNyt"
      },
      "outputs": [],
      "source": [
        "import torchvision\n",
        "import matplotlib.pyplot as plt\n",
        "from torch.utils.data import DataLoader, Subset\n",
        "from sklearn.model_selection import train_test_split\n",
        "device = torch.device(\"cuda:0\" if torch.cuda.is_available() else \"cpu\")"
      ]
    },
    {
      "cell_type": "code",
      "execution_count": 61,
      "metadata": {
        "id": "feGo1EKE4sRg"
      },
      "outputs": [],
      "source": [
        "def get_data(train_batch_size, val_batch_size, test_batch_size):\n",
        "  # Use the following code to load and normalize the dataset for training and testing\n",
        "  # It will downlad the dataset into data subfolder (change to your data folder name)\n",
        "  train_dataset = torchvision.datasets.FashionMNIST('data/', train=True, download=True,\n",
        "                              transform=torchvision.transforms.Compose([\n",
        "                                torchvision.transforms.ToTensor(),\n",
        "                                torchvision.transforms.Normalize(\n",
        "                                  (0.1307,), (0.3081,))\n",
        "                              ]))\n",
        "\n",
        "  test_dataset = torchvision.datasets.FashionMNIST('data/', train=False, download=True,\n",
        "                              transform=torchvision.transforms.Compose([\n",
        "                                torchvision.transforms.ToTensor(),\n",
        "                                torchvision.transforms.Normalize(\n",
        "                                  (0.1307,), (0.3081,))\n",
        "                              ]))\n",
        "\n",
        "\n",
        "  # Use the following code to create a validation set of 10%\n",
        "  train_indices, val_indices, _, _ = train_test_split(\n",
        "      range(len(train_dataset)),\n",
        "      train_dataset.targets,\n",
        "      stratify=train_dataset.targets,\n",
        "      test_size=0.1,\n",
        "  )\n",
        "\n",
        "  # Generate training and validation subsets based on indices\n",
        "  train_split = Subset(train_dataset, train_indices)\n",
        "  val_split = Subset(train_dataset, val_indices)\n",
        "\n",
        "\n",
        "  # Define dataloader objects that help to iterate over batches and samples for\n",
        "  # training, validation and testing\n",
        "  train_batches = DataLoader(train_split, batch_size=train_batch_size, shuffle=True)\n",
        "  val_batches = DataLoader(val_split, batch_size=val_batch_size, shuffle=True)\n",
        "  test_batches = DataLoader(test_dataset, batch_size=test_batch_size, shuffle=True)\n",
        "\n",
        "  return train_batches, val_batches, test_batches\n"
      ]
    },
    {
      "cell_type": "code",
      "execution_count": 62,
      "metadata": {
        "id": "HrvoPg1f7Gxu"
      },
      "outputs": [],
      "source": [
        "#Define your (As Cool As It Gets) Fully Connected Neural Network\n",
        "class ACAIGFCN(nn.Module):\n",
        "    #Initialize model layers, add additional arguments to adjust\n",
        "    def __init__(self, input_dim, output_dim, neurons, drop_out_p, batch_norm):\n",
        "        super(ACAIGFCN, self).__init__()\n",
        "        #Define the network layer(s) and activation function(s)\n",
        "        self.layers = nn.ModuleList([nn.Linear(input_dim, neurons[0])])\n",
        "        for i in range(len(neurons)-1):\n",
        "          if batch_norm:\n",
        "            self.layers.extend([nn.BatchNorm1d(neurons[i])])\n",
        "          self.layers.extend([torch.nn.Dropout(p=drop_out_p)])\n",
        "          self.layers.extend([nn.Linear(neurons[i], neurons[i+1])])\n",
        "        if batch_norm:\n",
        "          self.layers.extend([nn.BatchNorm1d(neurons[-1])])\n",
        "        self.layers.extend([torch.nn.Dropout(p=drop_out_p)])\n",
        "        self.layers.extend([nn.Linear(neurons[-1], output_dim)])\n",
        "        self.drop_out = nn.Dropout(p=drop_out_p)\n",
        "    def forward(self, input):\n",
        "        #Define how your model propagates the input through the network\n",
        "        output = input\n",
        "        for layer in self.layers[:-1]:\n",
        "          output = nn.functional.relu(layer(output))\n",
        "        output = self.layers[-1](output)\n",
        "        return output"
      ]
    },
    {
      "cell_type": "code",
      "execution_count": 63,
      "metadata": {
        "id": "i8NgEvLvknB9"
      },
      "outputs": [],
      "source": [
        "def init_weights_xavier(model):\n",
        "    if type(model) == nn.Linear:\n",
        "        torch.nn.init.xavier_normal_(model.weight)"
      ]
    },
    {
      "cell_type": "code",
      "execution_count": 64,
      "metadata": {
        "id": "Zwy0Gyhpof5C"
      },
      "outputs": [],
      "source": [
        "def init_weights_random(model):\n",
        "    if type(model) == nn.Linear:\n",
        "        torch.nn.init.normal_(model.weight)"
      ]
    },
    {
      "cell_type": "code",
      "execution_count": 65,
      "metadata": {
        "id": "_jXnrIW7o8U7"
      },
      "outputs": [],
      "source": [
        "def init_weights_kaiming(model):\n",
        "    if type(model) == nn.Linear:\n",
        "        torch.nn.init.kaiming_uniform_(model.weight)"
      ]
    },
    {
      "cell_type": "code",
      "execution_count": 66,
      "metadata": {
        "id": "P5LSRzClJNyu"
      },
      "outputs": [],
      "source": [
        "def calculate_test(model, test_batches):\n",
        "    #Calculate accuracy on test set\n",
        "    with torch.no_grad():\n",
        "        test_acc = 0\n",
        "        for test_features, test_labels in test_batches:\n",
        "          test_features, test_labels = test_features.to(device), test_labels.to(device)\n",
        "          model.eval()\n",
        "          # Reshape test images into a vector\n",
        "          test_features = test_features.reshape(-1, 28*28)\n",
        "\n",
        "          # Compute validation outputs (targets)\n",
        "          # and compute accuracy\n",
        "          test_outputs = model(test_features)\n",
        "          correct = (torch.argmax(test_outputs, dim=1) == test_labels).type(torch.FloatTensor)\n",
        "          test_acc += correct.mean()\n",
        "        # Compute total (mean) accuracy\n",
        "        test_acc = test_acc/len(test_batches)\n",
        "        # Report total (mean) accuracy, can also compute std based on batches\n",
        "        print(\"Test Accuracy:\" + str(test_acc.numpy()*100) + '%')"
      ]
    },
    {
      "cell_type": "code",
      "execution_count": 67,
      "metadata": {
        "id": "xy5Qwr13JNyu"
      },
      "outputs": [],
      "source": [
        "def epoch_plot(train_loss_list, validation_loss_list, validation_accuracy_list, optimizer_type):\n",
        "  # Plot training loss and validation accuracy throughout the training epochs\n",
        "  fig, ax = plt.subplots(1,2, figsize=(10,5))\n",
        "  index = np.arange(1, len(train_loss_list)+1)\n",
        "  ax[0].plot(index, train_loss_list, 'r-', label = 'Training Loss')\n",
        "  ax[0].plot(index, validation_loss_list, 'b-', label = 'Validation loss')\n",
        "  ax[0].legend()\n",
        "  ax[0].set_xlabel('Epoch')\n",
        "  ax[0].set_ylabel('Loss')\n",
        "  ax[0].title.set_text('Cross Entropy Loss (' + optimizer_type + ')')\n",
        "  ax[1].plot(index, validation_accuracy_list, label = 'Validation acc')\n",
        "  ax[1].set_xlabel('Epoch')\n",
        "  ax[1].set_ylabel('Validation Accuracy')\n",
        "  ax[1].title.set_text('Validation Accuracy')"
      ]
    },
    {
      "cell_type": "markdown",
      "metadata": {
        "id": "mforgIP4qGVc"
      },
      "source": [
        "Base Line Model:neuron_dim = [100,100], lr = 20, epochs = 30"
      ]
    },
    {
      "cell_type": "code",
      "execution_count": 68,
      "metadata": {
        "id": "N731jlIZ3-vf"
      },
      "outputs": [],
      "source": [
        "def parameter_tunning(neuron_dim, epochs, train_batches, val_batches, test_batches, drop_out, weight_init, batch_norm, optimizer_type, lr):\n",
        "  model = ACAIGFCN(input_dim = 784, output_dim = 10, neurons = neuron_dim, drop_out_p = drop_out, batch_norm=batch_norm)\n",
        "  if optimizer_type == 'sgd':\n",
        "    optimizer = torch.optim.SGD(model.parameters(), lr = lr)\n",
        "  elif optimizer_type == 'adam':\n",
        "    optimizer = torch.optim.Adam(model.parameters(), lr = lr)\n",
        "  else:\n",
        "    optimizer = torch.optim.RMSprop(model.parameters(), lr = lr)\n",
        "\n",
        "  if weight_init == 'xavier':\n",
        "    model.apply(init_weights_xavier)\n",
        "  elif weight_init == 'random':\n",
        "    model.apply(init_weights_random)\n",
        "  elif weight_init == 'kaiming':\n",
        "    model.apply(init_weights_kaiming)\n",
        "  if torch.cuda.is_available():\n",
        "    model.cuda()\n",
        "\n",
        "  model_state = {'train_loss':1000, 'val_loss':1000, 'val_acc':0}\n",
        "  train_loss_list = np.zeros((epochs,))\n",
        "  validation_loss_list = np.zeros((epochs,))\n",
        "  validation_accuracy_list = np.zeros((epochs,))\n",
        "  loss_func = nn.CrossEntropyLoss()\n",
        "  # Iterate over epochs, batches with progress bar and train+ validate the ACAIGFCN\n",
        "  # Track the loss and validation accuracy\n",
        "  for epoch in tqdm.trange(epochs):\n",
        "      train_loss = np.zeros((len(train_batches),))\n",
        "      val_loss = np.zeros((len(val_batches),))\n",
        "      indexer = 0\n",
        "      optimizer.zero_grad()\n",
        "      # ACAIGFCN Training\n",
        "      for train_features, train_labels in train_batches:\n",
        "          train_features, train_labels = train_features.to(device), train_labels.to(device)\n",
        "          # Set model into training mode\n",
        "          model.train()\n",
        "\n",
        "          # Reshape images into a vector\n",
        "          train_features = train_features.reshape(-1, 28*28)\n",
        "\n",
        "          # Reset gradients, Calculate training loss on model\n",
        "          train_outputs = model(train_features)\n",
        "          batch_loss_train = loss_func(train_outputs, train_labels)\n",
        "          train_loss[indexer] = batch_loss_train.item()\n",
        "          # Perfrom optimization, back propagation\n",
        "          batch_loss_train.backward()\n",
        "          optimizer.step()\n",
        "          indexer += 1\n",
        "\n",
        "      # Record loss for the epoch\n",
        "      train_loss_list[epoch] = np.mean(train_loss)\n",
        "      # ACAIGFCN Validation\n",
        "      val_acc = 0\n",
        "      indexer = 0\n",
        "      for val_features, val_labels in val_batches:\n",
        "          val_features, val_labels = val_features.to(device), val_labels.to(device)\n",
        "          # Telling PyTorch we aren't passing inputs to network for training purpose\n",
        "          with torch.no_grad():\n",
        "              model.eval()\n",
        "\n",
        "              # Reshape validation images into a vector\n",
        "              val_features = val_features.reshape(-1, 28*28)\n",
        "\n",
        "              # Compute validation outputs (targets)\n",
        "              val_outputs = model(val_features)\n",
        "              batch_loss_val = loss_func(val_outputs, val_labels)\n",
        "              val_loss[indexer] = batch_loss_val.item()\n",
        "              correct = (torch.argmax(val_outputs, dim=1) == val_labels).type(torch.FloatTensor)\n",
        "\n",
        "              # and compute accuracy\n",
        "              val_acc += correct.mean()\n",
        "              indexer += 1\n",
        "      # Record accuracy for the epoch; print training loss, validation accuracy\n",
        "      val_mean_acc = val_acc/len(val_batches)\n",
        "      validation_loss_list[epoch] = np.mean(val_loss)\n",
        "      validation_accuracy_list[epoch] = val_mean_acc\n",
        "      if train_loss_list[epoch] < model_state['train_loss']:\n",
        "        model_state['train_loss'] = train_loss_list[epoch]\n",
        "      if validation_loss_list[epoch] < model_state['val_loss']:\n",
        "        model_state['val_loss'] = validation_loss_list[epoch]\n",
        "        best_model = {'model_weights':model.state_dict(), 'optimizer_state':optimizer.state_dict()}\n",
        "      if val_mean_acc > model_state['val_acc']:\n",
        "        model_state['val_acc'] = val_mean_acc\n",
        "      print(\"Epoch: \"+ str(epoch))\n",
        "      print(\"Validation Accuracy:\" + str(validation_accuracy_list[epoch]*100) + '%')\n",
        "      print('Training Loss:' + str(train_loss_list[epoch]))\n",
        "      print('Validation Loss:' + str(validation_loss_list[epoch]))\n",
        "\n",
        "  epoch_plot(train_loss_list, validation_loss_list, validation_accuracy_list, optimizer_type)\n",
        "  model.load_state_dict(best_model['model_weights'])\n",
        "  calculate_test(model, test_batches)\n",
        "  return model_state"
      ]
    },
    {
      "cell_type": "code",
      "execution_count": 74,
      "metadata": {
        "id": "UF5685auZNqk"
      },
      "outputs": [],
      "source": [
        "# set batches sizes\n",
        "train_batch_size = 512 #Define train batch size\n",
        "test_batch_size  = 256 #Define test batch size (can be larger than train batch size)\n",
        "neuron_dim_base = [200, 200]\n",
        "neuron_dim_optimal = [100, 100]\n",
        "epochs = 30\n",
        "lr_base = 0.005\n",
        "lr_optimal= 0.0001\n",
        "train_batches, val_batches, test_batches = get_data(train_batch_size, train_batch_size, test_batch_size)"
      ]
    },
    {
      "cell_type": "markdown",
      "source": [
        "# **Baseline Model Estabilishment**"
      ],
      "metadata": {
        "id": "rZwD-DzYvTF4"
      }
    },
    {
      "cell_type": "code",
      "execution_count": 70,
      "metadata": {
        "colab": {
          "base_uri": "https://localhost:8080/",
          "height": 1000
        },
        "id": "wb6KRK1-3sU8",
        "outputId": "0d5bda94-7d86-4b4c-ae54-2ef7c4b7b887"
      },
      "outputs": [
        {
          "output_type": "stream",
          "name": "stderr",
          "text": [
            "  3%|▎         | 1/30 [00:10<05:04, 10.50s/it]"
          ]
        },
        {
          "output_type": "stream",
          "name": "stdout",
          "text": [
            "Epoch: 0\n",
            "Validation Accuracy:65.14096260070801%\n",
            "Training Loss:1.4501621458890304\n",
            "Validation Loss:0.9123709350824356\n"
          ]
        },
        {
          "output_type": "stream",
          "name": "stderr",
          "text": [
            "\r  7%|▋         | 2/30 [00:21<04:57, 10.61s/it]"
          ]
        },
        {
          "output_type": "stream",
          "name": "stdout",
          "text": [
            "Epoch: 1\n",
            "Validation Accuracy:81.3349187374115%\n",
            "Training Loss:0.6328882192665676\n",
            "Validation Loss:0.5280795867244402\n"
          ]
        },
        {
          "output_type": "stream",
          "name": "stderr",
          "text": [
            "\r 10%|█         | 3/30 [00:31<04:47, 10.65s/it]"
          ]
        },
        {
          "output_type": "stream",
          "name": "stdout",
          "text": [
            "Epoch: 2\n",
            "Validation Accuracy:83.08494687080383%\n",
            "Training Loss:0.4747428736596737\n",
            "Validation Loss:0.4756651545564334\n"
          ]
        },
        {
          "output_type": "stream",
          "name": "stderr",
          "text": [
            "\r 13%|█▎        | 4/30 [00:42<04:37, 10.66s/it]"
          ]
        },
        {
          "output_type": "stream",
          "name": "stdout",
          "text": [
            "Epoch: 3\n",
            "Validation Accuracy:84.128737449646%\n",
            "Training Loss:0.4224953257812644\n",
            "Validation Loss:0.4357902506987254\n"
          ]
        },
        {
          "output_type": "stream",
          "name": "stderr",
          "text": [
            "\r 17%|█▋        | 5/30 [00:53<04:27, 10.70s/it]"
          ]
        },
        {
          "output_type": "stream",
          "name": "stdout",
          "text": [
            "Epoch: 4\n",
            "Validation Accuracy:85.44356226921082%\n",
            "Training Loss:0.39107017331528215\n",
            "Validation Loss:0.397830531001091\n"
          ]
        },
        {
          "output_type": "stream",
          "name": "stderr",
          "text": [
            "\r 20%|██        | 6/30 [01:03<04:15, 10.66s/it]"
          ]
        },
        {
          "output_type": "stream",
          "name": "stdout",
          "text": [
            "Epoch: 5\n",
            "Validation Accuracy:85.44073104858398%\n",
            "Training Loss:0.37409558414288285\n",
            "Validation Loss:0.39717159420251846\n"
          ]
        },
        {
          "output_type": "stream",
          "name": "stderr",
          "text": [
            "\r 23%|██▎       | 7/30 [01:15<04:09, 10.84s/it]"
          ]
        },
        {
          "output_type": "stream",
          "name": "stdout",
          "text": [
            "Epoch: 6\n",
            "Validation Accuracy:85.4598343372345%\n",
            "Training Loss:0.3577617718926016\n",
            "Validation Loss:0.3931379367907842\n"
          ]
        },
        {
          "output_type": "stream",
          "name": "stderr",
          "text": [
            "\r 27%|██▋       | 8/30 [01:26<03:59, 10.88s/it]"
          ]
        },
        {
          "output_type": "stream",
          "name": "stdout",
          "text": [
            "Epoch: 7\n",
            "Validation Accuracy:85.84408760070801%\n",
            "Training Loss:0.3505277583059275\n",
            "Validation Loss:0.397891807059447\n"
          ]
        },
        {
          "output_type": "stream",
          "name": "stderr",
          "text": [
            "\r 30%|███       | 9/30 [01:36<03:47, 10.85s/it]"
          ]
        },
        {
          "output_type": "stream",
          "name": "stdout",
          "text": [
            "Epoch: 8\n",
            "Validation Accuracy:84.52289700508118%\n",
            "Training Loss:0.35071834907779154\n",
            "Validation Loss:0.42460570981105167\n"
          ]
        },
        {
          "output_type": "stream",
          "name": "stderr",
          "text": [
            "\r 33%|███▎      | 10/30 [01:47<03:37, 10.88s/it]"
          ]
        },
        {
          "output_type": "stream",
          "name": "stdout",
          "text": [
            "Epoch: 9\n",
            "Validation Accuracy:85.50937175750732%\n",
            "Training Loss:0.3506172409035125\n",
            "Validation Loss:0.4080811068415642\n"
          ]
        },
        {
          "output_type": "stream",
          "name": "stderr",
          "text": [
            "\r 37%|███▋      | 11/30 [01:58<03:27, 10.93s/it]"
          ]
        },
        {
          "output_type": "stream",
          "name": "stdout",
          "text": [
            "Epoch: 10\n",
            "Validation Accuracy:85.91839671134949%\n",
            "Training Loss:0.34086163524749147\n",
            "Validation Loss:0.39171429723501205\n"
          ]
        },
        {
          "output_type": "stream",
          "name": "stderr",
          "text": [
            "\r 40%|████      | 12/30 [02:09<03:15, 10.88s/it]"
          ]
        },
        {
          "output_type": "stream",
          "name": "stdout",
          "text": [
            "Epoch: 11\n",
            "Validation Accuracy:86.22763752937317%\n",
            "Training Loss:0.32308896448252333\n",
            "Validation Loss:0.3794016366203626\n"
          ]
        },
        {
          "output_type": "stream",
          "name": "stderr",
          "text": [
            "\r 43%|████▎     | 13/30 [02:20<03:06, 10.95s/it]"
          ]
        },
        {
          "output_type": "stream",
          "name": "stdout",
          "text": [
            "Epoch: 12\n",
            "Validation Accuracy:87.57289052009583%\n",
            "Training Loss:0.3113594465660599\n",
            "Validation Loss:0.348321537176768\n"
          ]
        },
        {
          "output_type": "stream",
          "name": "stderr",
          "text": [
            "\r 47%|████▋     | 14/30 [02:31<02:54, 10.92s/it]"
          ]
        },
        {
          "output_type": "stream",
          "name": "stdout",
          "text": [
            "Epoch: 13\n",
            "Validation Accuracy:85.79172492027283%\n",
            "Training Loss:0.29899514761735807\n",
            "Validation Loss:0.3744513690471649\n"
          ]
        },
        {
          "output_type": "stream",
          "name": "stderr",
          "text": [
            "\r 50%|█████     | 15/30 [02:42<02:42, 10.85s/it]"
          ]
        },
        {
          "output_type": "stream",
          "name": "stdout",
          "text": [
            "Epoch: 14\n",
            "Validation Accuracy:86.68761253356934%\n",
            "Training Loss:0.3013064760082173\n",
            "Validation Loss:0.3664404625693957\n"
          ]
        },
        {
          "output_type": "stream",
          "name": "stderr",
          "text": [
            "\r 53%|█████▎    | 16/30 [02:52<02:31, 10.81s/it]"
          ]
        },
        {
          "output_type": "stream",
          "name": "stdout",
          "text": [
            "Epoch: 15\n",
            "Validation Accuracy:87.34360337257385%\n",
            "Training Loss:0.2998947647382628\n",
            "Validation Loss:0.3511882747213046\n"
          ]
        },
        {
          "output_type": "stream",
          "name": "stderr",
          "text": [
            "\r 57%|█████▋    | 17/30 [03:04<02:21, 10.88s/it]"
          ]
        },
        {
          "output_type": "stream",
          "name": "stdout",
          "text": [
            "Epoch: 16\n",
            "Validation Accuracy:86.58642172813416%\n",
            "Training Loss:0.28627752105020127\n",
            "Validation Loss:0.35495781401793164\n"
          ]
        },
        {
          "output_type": "stream",
          "name": "stderr",
          "text": [
            "\r 60%|██████    | 18/30 [03:14<02:10, 10.88s/it]"
          ]
        },
        {
          "output_type": "stream",
          "name": "stdout",
          "text": [
            "Epoch: 17\n",
            "Validation Accuracy:86.83692812919617%\n",
            "Training Loss:0.29335189146815605\n",
            "Validation Loss:0.37205759435892105\n"
          ]
        },
        {
          "output_type": "stream",
          "name": "stderr",
          "text": [
            "\r 63%|██████▎   | 19/30 [03:26<02:00, 10.95s/it]"
          ]
        },
        {
          "output_type": "stream",
          "name": "stdout",
          "text": [
            "Epoch: 18\n",
            "Validation Accuracy:87.66558766365051%\n",
            "Training Loss:0.28595483781031844\n",
            "Validation Loss:0.33833475410938263\n"
          ]
        },
        {
          "output_type": "stream",
          "name": "stderr",
          "text": [
            "\r 67%|██████▋   | 20/30 [03:36<01:48, 10.82s/it]"
          ]
        },
        {
          "output_type": "stream",
          "name": "stdout",
          "text": [
            "Epoch: 19\n",
            "Validation Accuracy:87.2919499874115%\n",
            "Training Loss:0.2723201084530579\n",
            "Validation Loss:0.3451446940501531\n"
          ]
        },
        {
          "output_type": "stream",
          "name": "stderr",
          "text": [
            "\r 70%|███████   | 21/30 [03:46<01:36, 10.71s/it]"
          ]
        },
        {
          "output_type": "stream",
          "name": "stdout",
          "text": [
            "Epoch: 20\n",
            "Validation Accuracy:87.06479072570801%\n",
            "Training Loss:0.2666148085076854\n",
            "Validation Loss:0.3544515296816826\n"
          ]
        },
        {
          "output_type": "stream",
          "name": "stderr",
          "text": [
            "\r 73%|███████▎  | 22/30 [03:58<01:26, 10.83s/it]"
          ]
        },
        {
          "output_type": "stream",
          "name": "stdout",
          "text": [
            "Epoch: 21\n",
            "Validation Accuracy:87.30115294456482%\n",
            "Training Loss:0.26734010889282767\n",
            "Validation Loss:0.3398200360437234\n"
          ]
        },
        {
          "output_type": "stream",
          "name": "stderr",
          "text": [
            "\r 77%|███████▋  | 23/30 [04:08<01:15, 10.80s/it]"
          ]
        },
        {
          "output_type": "stream",
          "name": "stdout",
          "text": [
            "Epoch: 22\n",
            "Validation Accuracy:88.12627792358398%\n",
            "Training Loss:0.265921802453275\n",
            "Validation Loss:0.3260693276921908\n"
          ]
        },
        {
          "output_type": "stream",
          "name": "stderr",
          "text": [
            "\r 80%|████████  | 24/30 [04:19<01:04, 10.74s/it]"
          ]
        },
        {
          "output_type": "stream",
          "name": "stdout",
          "text": [
            "Epoch: 23\n",
            "Validation Accuracy:87.43560314178467%\n",
            "Training Loss:0.2552675905655015\n",
            "Validation Loss:0.3355959455172221\n"
          ]
        },
        {
          "output_type": "stream",
          "name": "stderr",
          "text": [
            "\r 83%|████████▎ | 25/30 [04:30<00:54, 10.87s/it]"
          ]
        },
        {
          "output_type": "stream",
          "name": "stdout",
          "text": [
            "Epoch: 24\n",
            "Validation Accuracy:87.0223343372345%\n",
            "Training Loss:0.2594294221896046\n",
            "Validation Loss:0.3651655043164889\n"
          ]
        },
        {
          "output_type": "stream",
          "name": "stderr",
          "text": [
            "\r 87%|████████▋ | 26/30 [04:41<00:43, 10.77s/it]"
          ]
        },
        {
          "output_type": "stream",
          "name": "stdout",
          "text": [
            "Epoch: 25\n",
            "Validation Accuracy:87.31105327606201%\n",
            "Training Loss:0.2571089114501791\n",
            "Validation Loss:0.34827497353156406\n"
          ]
        },
        {
          "output_type": "stream",
          "name": "stderr",
          "text": [
            "\r 90%|█████████ | 27/30 [04:51<00:32, 10.74s/it]"
          ]
        },
        {
          "output_type": "stream",
          "name": "stdout",
          "text": [
            "Epoch: 26\n",
            "Validation Accuracy:87.31813430786133%\n",
            "Training Loss:0.2570108141539232\n",
            "Validation Loss:0.3471795643369357\n"
          ]
        },
        {
          "output_type": "stream",
          "name": "stderr",
          "text": [
            "\r 93%|█████████▎| 28/30 [05:02<00:21, 10.65s/it]"
          ]
        },
        {
          "output_type": "stream",
          "name": "stdout",
          "text": [
            "Epoch: 27\n",
            "Validation Accuracy:87.45541572570801%\n",
            "Training Loss:0.25651775328618176\n",
            "Validation Loss:0.3440745572249095\n"
          ]
        },
        {
          "output_type": "stream",
          "name": "stderr",
          "text": [
            "\r 97%|█████████▋| 29/30 [05:12<00:10, 10.67s/it]"
          ]
        },
        {
          "output_type": "stream",
          "name": "stdout",
          "text": [
            "Epoch: 28\n",
            "Validation Accuracy:86.374831199646%\n",
            "Training Loss:0.25130659735427713\n",
            "Validation Loss:0.3875121846795082\n"
          ]
        },
        {
          "output_type": "stream",
          "name": "stderr",
          "text": [
            "100%|██████████| 30/30 [05:23<00:00, 10.78s/it]"
          ]
        },
        {
          "output_type": "stream",
          "name": "stdout",
          "text": [
            "Epoch: 29\n",
            "Validation Accuracy:87.062668800354%\n",
            "Training Loss:0.26248095100218394\n",
            "Validation Loss:0.365465780099233\n"
          ]
        },
        {
          "output_type": "stream",
          "name": "stderr",
          "text": [
            "\n"
          ]
        },
        {
          "output_type": "stream",
          "name": "stdout",
          "text": [
            "Test Accuracy:86.0644519329071%\n"
          ]
        },
        {
          "output_type": "display_data",
          "data": {
            "text/plain": [
              "<Figure size 1000x500 with 2 Axes>"
            ],
            "image/png": "[encoded data removed]"
          },
          "metadata": {}
        }
      ],
      "source": [
        "saved_states_base = parameter_tunning(neuron_dim_base, epochs, train_batches, val_batches, test_batches, 0, 'None', False, 'sgd', lr_base)"
      ]
    },
    {
      "cell_type": "markdown",
      "source": [
        "# **Optimizer Comparison**"
      ],
      "metadata": {
        "id": "1DaTVJTfvNOn"
      }
    },
    {
      "cell_type": "code",
      "source": [
        "saved_states_sgd = parameter_tunning(neuron_dim_optimal, epochs, train_batches, val_batches, test_batches, 0, 'None', False, 'sgd', 0.001)\n",
        "saved_states_adam = parameter_tunning(neuron_dim_optimal, epochs, train_batches, val_batches, test_batches, 0, 'None', False, 'adam', 0.001)\n",
        "saved_states_rms = parameter_tunning(neuron_dim_optimal, epochs, train_batches, val_batches, test_batches, 0, 'None', False, 'rms', 0.001)"
      ],
      "metadata": {
        "colab": {
          "base_uri": "https://localhost:8080/",
          "height": 1000
        },
        "id": "5-aQsNrNhgoZ",
        "outputId": "c40ce506-54db-4ec5-f5bf-79e19dced498"
      },
      "execution_count": 71,
      "outputs": [
        {
          "output_type": "stream",
          "name": "stderr",
          "text": [
            "  3%|▎         | 1/30 [00:10<05:12, 10.76s/it]"
          ]
        },
        {
          "output_type": "stream",
          "name": "stdout",
          "text": [
            "Epoch: 0\n",
            "Validation Accuracy:65.6844437122345%\n",
            "Training Loss:1.5310960856248748\n",
            "Validation Loss:1.0131397445996602\n"
          ]
        },
        {
          "output_type": "stream",
          "name": "stderr",
          "text": [
            "\r  7%|▋         | 2/30 [00:21<04:57, 10.61s/it]"
          ]
        },
        {
          "output_type": "stream",
          "name": "stdout",
          "text": [
            "Epoch: 1\n",
            "Validation Accuracy:77.47113108634949%\n",
            "Training Loss:0.791597103735186\n",
            "Validation Loss:0.6622596184412638\n"
          ]
        },
        {
          "output_type": "stream",
          "name": "stderr",
          "text": [
            "\r 10%|█         | 3/30 [00:32<04:48, 10.70s/it]"
          ]
        },
        {
          "output_type": "stream",
          "name": "stdout",
          "text": [
            "Epoch: 2\n",
            "Validation Accuracy:80.24159073829651%\n",
            "Training Loss:0.5730430309502583\n",
            "Validation Loss:0.5641103908419609\n"
          ]
        },
        {
          "output_type": "stream",
          "name": "stderr",
          "text": [
            "\r 13%|█▎        | 4/30 [00:42<04:37, 10.69s/it]"
          ]
        },
        {
          "output_type": "stream",
          "name": "stdout",
          "text": [
            "Epoch: 3\n",
            "Validation Accuracy:82.08503127098083%\n",
            "Training Loss:0.5156200758691104\n",
            "Validation Loss:0.5220472812652588\n"
          ]
        },
        {
          "output_type": "stream",
          "name": "stderr",
          "text": [
            "\r 17%|█▋        | 5/30 [00:53<04:27, 10.70s/it]"
          ]
        },
        {
          "output_type": "stream",
          "name": "stdout",
          "text": [
            "Epoch: 4\n",
            "Validation Accuracy:83.34181904792786%\n",
            "Training Loss:0.4721401297258881\n",
            "Validation Loss:0.4696512718995412\n"
          ]
        },
        {
          "output_type": "stream",
          "name": "stderr",
          "text": [
            "\r 20%|██        | 6/30 [01:04<04:17, 10.74s/it]"
          ]
        },
        {
          "output_type": "stream",
          "name": "stdout",
          "text": [
            "Epoch: 5\n",
            "Validation Accuracy:83.68999361991882%\n",
            "Training Loss:0.4452296773780067\n",
            "Validation Loss:0.47584811598062515\n"
          ]
        },
        {
          "output_type": "stream",
          "name": "stderr",
          "text": [
            "\r 23%|██▎       | 7/30 [01:14<04:06, 10.72s/it]"
          ]
        },
        {
          "output_type": "stream",
          "name": "stdout",
          "text": [
            "Epoch: 6\n",
            "Validation Accuracy:84.81020927429199%\n",
            "Training Loss:0.42495014532557074\n",
            "Validation Loss:0.43796970943609875\n"
          ]
        },
        {
          "output_type": "stream",
          "name": "stderr",
          "text": [
            "\r 27%|██▋       | 8/30 [01:26<03:59, 10.88s/it]"
          ]
        },
        {
          "output_type": "stream",
          "name": "stdout",
          "text": [
            "Epoch: 7\n",
            "Validation Accuracy:84.91494059562683%\n",
            "Training Loss:0.41254031348903225\n",
            "Validation Loss:0.43204469233751297\n"
          ]
        },
        {
          "output_type": "stream",
          "name": "stderr",
          "text": [
            "\r 30%|███       | 9/30 [01:37<03:51, 11.03s/it]"
          ]
        },
        {
          "output_type": "stream",
          "name": "stdout",
          "text": [
            "Epoch: 8\n",
            "Validation Accuracy:84.89158749580383%\n",
            "Training Loss:0.398269422211737\n",
            "Validation Loss:0.4332699750860532\n"
          ]
        },
        {
          "output_type": "stream",
          "name": "stderr",
          "text": [
            "\r 33%|███▎      | 10/30 [01:48<03:39, 10.96s/it]"
          ]
        },
        {
          "output_type": "stream",
          "name": "stdout",
          "text": [
            "Epoch: 9\n",
            "Validation Accuracy:84.4620406627655%\n",
            "Training Loss:0.3889439980376442\n",
            "Validation Loss:0.4309389293193817\n"
          ]
        },
        {
          "output_type": "stream",
          "name": "stderr",
          "text": [
            "\r 37%|███▋      | 11/30 [01:59<03:27, 10.90s/it]"
          ]
        },
        {
          "output_type": "stream",
          "name": "stdout",
          "text": [
            "Epoch: 10\n",
            "Validation Accuracy:85.04090309143066%\n",
            "Training Loss:0.38664517650064434\n",
            "Validation Loss:0.435453861951828\n"
          ]
        },
        {
          "output_type": "stream",
          "name": "stderr",
          "text": [
            "\r 40%|████      | 12/30 [02:09<03:16, 10.89s/it]"
          ]
        },
        {
          "output_type": "stream",
          "name": "stdout",
          "text": [
            "Epoch: 11\n",
            "Validation Accuracy:85.41949391365051%\n",
            "Training Loss:0.38078598115804063\n",
            "Validation Loss:0.40819120903809863\n"
          ]
        },
        {
          "output_type": "stream",
          "name": "stderr",
          "text": [
            "\r 43%|████▎     | 13/30 [02:21<03:05, 10.93s/it]"
          ]
        },
        {
          "output_type": "stream",
          "name": "stdout",
          "text": [
            "Epoch: 12\n",
            "Validation Accuracy:85.15200614929199%\n",
            "Training Loss:0.37079049393815816\n",
            "Validation Loss:0.4135221590598424\n"
          ]
        },
        {
          "output_type": "stream",
          "name": "stderr",
          "text": [
            "\r 47%|████▋     | 14/30 [02:31<02:53, 10.86s/it]"
          ]
        },
        {
          "output_type": "stream",
          "name": "stdout",
          "text": [
            "Epoch: 13\n",
            "Validation Accuracy:85.79667210578918%\n",
            "Training Loss:0.36098693339329846\n",
            "Validation Loss:0.3952595591545105\n"
          ]
        },
        {
          "output_type": "stream",
          "name": "stderr",
          "text": [
            "\r 50%|█████     | 15/30 [02:42<02:43, 10.92s/it]"
          ]
        },
        {
          "output_type": "stream",
          "name": "stdout",
          "text": [
            "Epoch: 14\n",
            "Validation Accuracy:86.35430932044983%\n",
            "Training Loss:0.35633978444450304\n",
            "Validation Loss:0.39841147512197495\n"
          ]
        },
        {
          "output_type": "stream",
          "name": "stderr",
          "text": [
            "\r 53%|█████▎    | 16/30 [02:53<02:32, 10.88s/it]"
          ]
        },
        {
          "output_type": "stream",
          "name": "stdout",
          "text": [
            "Epoch: 15\n",
            "Validation Accuracy:86.279296875%\n",
            "Training Loss:0.348331333612496\n",
            "Validation Loss:0.3875247885783513\n"
          ]
        },
        {
          "output_type": "stream",
          "name": "stderr",
          "text": [
            "\r 57%|█████▋    | 17/30 [03:04<02:21, 10.91s/it]"
          ]
        },
        {
          "output_type": "stream",
          "name": "stdout",
          "text": [
            "Epoch: 16\n",
            "Validation Accuracy:86.75413131713867%\n",
            "Training Loss:0.3357985199622388\n",
            "Validation Loss:0.37192270408074063\n"
          ]
        },
        {
          "output_type": "stream",
          "name": "stderr",
          "text": [
            "\r 60%|██████    | 18/30 [03:14<02:09, 10.77s/it]"
          ]
        },
        {
          "output_type": "stream",
          "name": "stdout",
          "text": [
            "Epoch: 17\n",
            "Validation Accuracy:86.4639937877655%\n",
            "Training Loss:0.32824805884991054\n",
            "Validation Loss:0.37353652715682983\n"
          ]
        },
        {
          "output_type": "stream",
          "name": "stderr",
          "text": [
            "\r 63%|██████▎   | 19/30 [03:25<01:58, 10.75s/it]"
          ]
        },
        {
          "output_type": "stream",
          "name": "stdout",
          "text": [
            "Epoch: 18\n",
            "Validation Accuracy:86.62038445472717%\n",
            "Training Loss:0.3252337726781953\n",
            "Validation Loss:0.37307673195997876\n"
          ]
        },
        {
          "output_type": "stream",
          "name": "stderr",
          "text": [
            "\r 67%|██████▋   | 20/30 [03:36<01:47, 10.77s/it]"
          ]
        },
        {
          "output_type": "stream",
          "name": "stdout",
          "text": [
            "Epoch: 19\n",
            "Validation Accuracy:86.65081858634949%\n",
            "Training Loss:0.3235821895441919\n",
            "Validation Loss:0.37322105715672177\n"
          ]
        },
        {
          "output_type": "stream",
          "name": "stderr",
          "text": [
            "\r 70%|███████   | 21/30 [03:47<01:37, 10.80s/it]"
          ]
        },
        {
          "output_type": "stream",
          "name": "stdout",
          "text": [
            "Epoch: 20\n",
            "Validation Accuracy:86.89354062080383%\n",
            "Training Loss:0.3207159509074013\n",
            "Validation Loss:0.35891324033339816\n"
          ]
        },
        {
          "output_type": "stream",
          "name": "stderr",
          "text": [
            "\r 73%|███████▎  | 22/30 [03:57<01:25, 10.71s/it]"
          ]
        },
        {
          "output_type": "stream",
          "name": "stdout",
          "text": [
            "Epoch: 21\n",
            "Validation Accuracy:87.03719973564148%\n",
            "Training Loss:0.31140013165631386\n",
            "Validation Loss:0.36705395579338074\n"
          ]
        },
        {
          "output_type": "stream",
          "name": "stderr",
          "text": [
            "\r 77%|███████▋  | 23/30 [04:08<01:15, 10.81s/it]"
          ]
        },
        {
          "output_type": "stream",
          "name": "stdout",
          "text": [
            "Epoch: 22\n",
            "Validation Accuracy:87.16315627098083%\n",
            "Training Loss:0.3045626187099601\n",
            "Validation Loss:0.35135195900996524\n"
          ]
        },
        {
          "output_type": "stream",
          "name": "stderr",
          "text": [
            "\r 80%|████████  | 24/30 [04:20<01:05, 10.95s/it]"
          ]
        },
        {
          "output_type": "stream",
          "name": "stdout",
          "text": [
            "Epoch: 23\n",
            "Validation Accuracy:87.52972483634949%\n",
            "Training Loss:0.3021792585276208\n",
            "Validation Loss:0.35878169536590576\n"
          ]
        },
        {
          "output_type": "stream",
          "name": "stderr",
          "text": [
            "\r 83%|████████▎ | 25/30 [04:31<00:55, 11.12s/it]"
          ]
        },
        {
          "output_type": "stream",
          "name": "stdout",
          "text": [
            "Epoch: 24\n",
            "Validation Accuracy:87.49434351921082%\n",
            "Training Loss:0.30267603104969243\n",
            "Validation Loss:0.35211092233657837\n"
          ]
        },
        {
          "output_type": "stream",
          "name": "stderr",
          "text": [
            "\r 87%|████████▋ | 26/30 [04:42<00:43, 10.93s/it]"
          ]
        },
        {
          "output_type": "stream",
          "name": "stdout",
          "text": [
            "Epoch: 25\n",
            "Validation Accuracy:87.47523427009583%\n",
            "Training Loss:0.2933525284225086\n",
            "Validation Loss:0.35356275488932926\n"
          ]
        },
        {
          "output_type": "stream",
          "name": "stderr",
          "text": [
            "\r 90%|█████████ | 27/30 [04:52<00:32, 10.87s/it]"
          ]
        },
        {
          "output_type": "stream",
          "name": "stdout",
          "text": [
            "Epoch: 26\n",
            "Validation Accuracy:87.84887194633484%\n",
            "Training Loss:0.2907477535729138\n",
            "Validation Loss:0.3430839752157529\n"
          ]
        },
        {
          "output_type": "stream",
          "name": "stderr",
          "text": [
            "\r 93%|█████████▎| 28/30 [05:03<00:21, 10.91s/it]"
          ]
        },
        {
          "output_type": "stream",
          "name": "stdout",
          "text": [
            "Epoch: 27\n",
            "Validation Accuracy:87.91680932044983%\n",
            "Training Loss:0.2845317804307308\n",
            "Validation Loss:0.3416673094034195\n"
          ]
        },
        {
          "output_type": "stream",
          "name": "stderr",
          "text": [
            "\r 97%|█████████▋| 29/30 [05:14<00:10, 10.88s/it]"
          ]
        },
        {
          "output_type": "stream",
          "name": "stdout",
          "text": [
            "Epoch: 28\n",
            "Validation Accuracy:87.45965957641602%\n",
            "Training Loss:0.2826092359873484\n",
            "Validation Loss:0.3422341359158357\n"
          ]
        },
        {
          "output_type": "stream",
          "name": "stderr",
          "text": [
            "100%|██████████| 30/30 [05:25<00:00, 10.86s/it]"
          ]
        },
        {
          "output_type": "stream",
          "name": "stdout",
          "text": [
            "Epoch: 29\n",
            "Validation Accuracy:88.16024661064148%\n",
            "Training Loss:0.28386054258301574\n",
            "Validation Loss:0.3370945726831754\n"
          ]
        },
        {
          "output_type": "stream",
          "name": "stderr",
          "text": [
            "\n"
          ]
        },
        {
          "output_type": "stream",
          "name": "stdout",
          "text": [
            "Test Accuracy:87.4804675579071%\n"
          ]
        },
        {
          "output_type": "stream",
          "name": "stderr",
          "text": [
            "  3%|▎         | 1/30 [00:11<05:27, 11.29s/it]"
          ]
        },
        {
          "output_type": "stream",
          "name": "stdout",
          "text": [
            "Epoch: 0\n",
            "Validation Accuracy:54.304659366607666%\n",
            "Training Loss:2.230045840425311\n",
            "Validation Loss:1.3041243851184845\n"
          ]
        },
        {
          "output_type": "stream",
          "name": "stderr",
          "text": [
            "\r  7%|▋         | 2/30 [00:22<05:11, 11.14s/it]"
          ]
        },
        {
          "output_type": "stream",
          "name": "stdout",
          "text": [
            "Epoch: 1\n",
            "Validation Accuracy:48.195481300354004%\n",
            "Training Loss:1.3695964891955537\n",
            "Validation Loss:2.686496635278066\n"
          ]
        },
        {
          "output_type": "stream",
          "name": "stderr",
          "text": [
            "\r 10%|█         | 3/30 [00:32<04:54, 10.89s/it]"
          ]
        },
        {
          "output_type": "stream",
          "name": "stdout",
          "text": [
            "Epoch: 2\n",
            "Validation Accuracy:45.515596866607666%\n",
            "Training Loss:1.744346431966098\n",
            "Validation Loss:2.4302135904630027\n"
          ]
        },
        {
          "output_type": "stream",
          "name": "stderr",
          "text": [
            "\r 13%|█▎        | 4/30 [00:43<04:40, 10.80s/it]"
          ]
        },
        {
          "output_type": "stream",
          "name": "stdout",
          "text": [
            "Epoch: 3\n",
            "Validation Accuracy:58.961021900177%\n",
            "Training Loss:1.8287530743850853\n",
            "Validation Loss:1.2491440375645955\n"
          ]
        },
        {
          "output_type": "stream",
          "name": "stderr",
          "text": [
            "\r 17%|█▋        | 5/30 [00:54<04:31, 10.87s/it]"
          ]
        },
        {
          "output_type": "stream",
          "name": "stdout",
          "text": [
            "Epoch: 4\n",
            "Validation Accuracy:55.932968854904175%\n",
            "Training Loss:1.6114915592490502\n",
            "Validation Loss:1.4279466768105824\n"
          ]
        },
        {
          "output_type": "stream",
          "name": "stderr",
          "text": [
            "\r 20%|██        | 6/30 [01:05<04:19, 10.80s/it]"
          ]
        },
        {
          "output_type": "stream",
          "name": "stdout",
          "text": [
            "Epoch: 5\n",
            "Validation Accuracy:41.066575050354004%\n",
            "Training Loss:1.5144388012166292\n",
            "Validation Loss:1.5498850345611572\n"
          ]
        },
        {
          "output_type": "stream",
          "name": "stderr",
          "text": [
            "\r 23%|██▎       | 7/30 [01:16<04:09, 10.85s/it]"
          ]
        },
        {
          "output_type": "stream",
          "name": "stdout",
          "text": [
            "Epoch: 6\n",
            "Validation Accuracy:61.12998127937317%\n",
            "Training Loss:1.28356955748684\n",
            "Validation Loss:1.366860955953598\n"
          ]
        },
        {
          "output_type": "stream",
          "name": "stderr",
          "text": [
            "\r 27%|██▋       | 8/30 [01:26<03:57, 10.81s/it]"
          ]
        },
        {
          "output_type": "stream",
          "name": "stdout",
          "text": [
            "Epoch: 7\n",
            "Validation Accuracy:61.74069046974182%\n",
            "Training Loss:1.2143674161074296\n",
            "Validation Loss:1.0494583994150162\n"
          ]
        },
        {
          "output_type": "stream",
          "name": "stderr",
          "text": [
            "\r 30%|███       | 9/30 [01:37<03:47, 10.82s/it]"
          ]
        },
        {
          "output_type": "stream",
          "name": "stdout",
          "text": [
            "Epoch: 8\n",
            "Validation Accuracy:72.29747176170349%\n",
            "Training Loss:0.9536363825483142\n",
            "Validation Loss:0.8909257054328918\n"
          ]
        },
        {
          "output_type": "stream",
          "name": "stderr",
          "text": [
            "\r 33%|███▎      | 10/30 [01:48<03:38, 10.94s/it]"
          ]
        },
        {
          "output_type": "stream",
          "name": "stdout",
          "text": [
            "Epoch: 9\n",
            "Validation Accuracy:69.58432197570801%\n",
            "Training Loss:0.9183621502147531\n",
            "Validation Loss:0.9985354294379553\n"
          ]
        },
        {
          "output_type": "stream",
          "name": "stderr",
          "text": [
            "\r 37%|███▋      | 11/30 [01:59<03:25, 10.83s/it]"
          ]
        },
        {
          "output_type": "stream",
          "name": "stdout",
          "text": [
            "Epoch: 10\n",
            "Validation Accuracy:70.12709975242615%\n",
            "Training Loss:0.8261656187615305\n",
            "Validation Loss:0.8778168459733328\n"
          ]
        },
        {
          "output_type": "stream",
          "name": "stderr",
          "text": [
            "\r 40%|████      | 12/30 [02:10<03:14, 10.83s/it]"
          ]
        },
        {
          "output_type": "stream",
          "name": "stdout",
          "text": [
            "Epoch: 11\n",
            "Validation Accuracy:73.50967526435852%\n",
            "Training Loss:0.7839548644029869\n",
            "Validation Loss:0.7954860577980677\n"
          ]
        },
        {
          "output_type": "stream",
          "name": "stderr",
          "text": [
            "\r 43%|████▎     | 13/30 [02:21<03:05, 10.92s/it]"
          ]
        },
        {
          "output_type": "stream",
          "name": "stdout",
          "text": [
            "Epoch: 12\n",
            "Validation Accuracy:71.27278447151184%\n",
            "Training Loss:0.7684697300758002\n",
            "Validation Loss:0.7606034030516943\n"
          ]
        },
        {
          "output_type": "stream",
          "name": "stderr",
          "text": [
            "\r 47%|████▋     | 14/30 [02:32<02:55, 10.95s/it]"
          ]
        },
        {
          "output_type": "stream",
          "name": "stdout",
          "text": [
            "Epoch: 13\n",
            "Validation Accuracy:69.78671550750732%\n",
            "Training Loss:0.6988300714852675\n",
            "Validation Loss:0.7877625127633413\n"
          ]
        },
        {
          "output_type": "stream",
          "name": "stderr",
          "text": [
            "\r 50%|█████     | 15/30 [02:43<02:43, 10.92s/it]"
          ]
        },
        {
          "output_type": "stream",
          "name": "stdout",
          "text": [
            "Epoch: 14\n",
            "Validation Accuracy:65.78776240348816%\n",
            "Training Loss:0.8273631390535606\n",
            "Validation Loss:0.9193097104628881\n"
          ]
        },
        {
          "output_type": "stream",
          "name": "stderr",
          "text": [
            "\r 53%|█████▎    | 16/30 [02:54<02:33, 10.97s/it]"
          ]
        },
        {
          "output_type": "stream",
          "name": "stdout",
          "text": [
            "Epoch: 15\n",
            "Validation Accuracy:69.25384998321533%\n",
            "Training Loss:0.8611003233576721\n",
            "Validation Loss:1.043180411060651\n"
          ]
        },
        {
          "output_type": "stream",
          "name": "stderr",
          "text": [
            "\r 57%|█████▋    | 17/30 [03:06<02:24, 11.15s/it]"
          ]
        },
        {
          "output_type": "stream",
          "name": "stdout",
          "text": [
            "Epoch: 16\n",
            "Validation Accuracy:65.90593457221985%\n",
            "Training Loss:0.8661992904150261\n",
            "Validation Loss:0.944765567779541\n"
          ]
        },
        {
          "output_type": "stream",
          "name": "stderr",
          "text": [
            "\r 60%|██████    | 18/30 [03:17<02:15, 11.32s/it]"
          ]
        },
        {
          "output_type": "stream",
          "name": "stdout",
          "text": [
            "Epoch: 17\n",
            "Validation Accuracy:70.45757174491882%\n",
            "Training Loss:0.9685310367143379\n",
            "Validation Loss:1.1027755985657375\n"
          ]
        },
        {
          "output_type": "stream",
          "name": "stderr",
          "text": [
            "\r 63%|██████▎   | 19/30 [03:28<02:02, 11.11s/it]"
          ]
        },
        {
          "output_type": "stream",
          "name": "stdout",
          "text": [
            "Epoch: 18\n",
            "Validation Accuracy:50.261831283569336%\n",
            "Training Loss:1.0907364943117466\n",
            "Validation Loss:1.56609841187795\n"
          ]
        },
        {
          "output_type": "stream",
          "name": "stderr",
          "text": [
            "\r 67%|██████▋   | 20/30 [03:39<01:50, 11.05s/it]"
          ]
        },
        {
          "output_type": "stream",
          "name": "stdout",
          "text": [
            "Epoch: 19\n",
            "Validation Accuracy:57.69432187080383%\n",
            "Training Loss:1.2654899426226347\n",
            "Validation Loss:1.2202043533325195\n"
          ]
        },
        {
          "output_type": "stream",
          "name": "stderr",
          "text": [
            "\r 70%|███████   | 21/30 [03:50<01:39, 11.02s/it]"
          ]
        },
        {
          "output_type": "stream",
          "name": "stdout",
          "text": [
            "Epoch: 20\n",
            "Validation Accuracy:58.32979679107666%\n",
            "Training Loss:1.2361684930774401\n",
            "Validation Loss:1.4350996911525726\n"
          ]
        },
        {
          "output_type": "stream",
          "name": "stderr",
          "text": [
            "\r 73%|███████▎  | 22/30 [04:01<01:28, 11.05s/it]"
          ]
        },
        {
          "output_type": "stream",
          "name": "stdout",
          "text": [
            "Epoch: 21\n",
            "Validation Accuracy:58.68503451347351%\n",
            "Training Loss:1.1662541937153295\n",
            "Validation Loss:1.199143519004186\n"
          ]
        },
        {
          "output_type": "stream",
          "name": "stderr",
          "text": [
            "\r 77%|███████▋  | 23/30 [04:12<01:17, 11.09s/it]"
          ]
        },
        {
          "output_type": "stream",
          "name": "stdout",
          "text": [
            "Epoch: 22\n",
            "Validation Accuracy:62.02162504196167%\n",
            "Training Loss:1.2117112830000103\n",
            "Validation Loss:1.1884170571962993\n"
          ]
        },
        {
          "output_type": "stream",
          "name": "stderr",
          "text": [
            "\r 80%|████████  | 24/30 [04:23<01:05, 10.94s/it]"
          ]
        },
        {
          "output_type": "stream",
          "name": "stdout",
          "text": [
            "Epoch: 23\n",
            "Validation Accuracy:65.41836857795715%\n",
            "Training Loss:1.109667959078303\n",
            "Validation Loss:0.9593829115231832\n"
          ]
        },
        {
          "output_type": "stream",
          "name": "stderr",
          "text": [
            "\r 83%|████████▎ | 25/30 [04:34<00:55, 11.08s/it]"
          ]
        },
        {
          "output_type": "stream",
          "name": "stdout",
          "text": [
            "Epoch: 24\n",
            "Validation Accuracy:66.23358130455017%\n",
            "Training Loss:0.9487918058656296\n",
            "Validation Loss:1.0113632877667744\n"
          ]
        },
        {
          "output_type": "stream",
          "name": "stderr",
          "text": [
            "\r 87%|████████▋ | 26/30 [04:45<00:44, 11.03s/it]"
          ]
        },
        {
          "output_type": "stream",
          "name": "stdout",
          "text": [
            "Epoch: 25\n",
            "Validation Accuracy:65.90027809143066%\n",
            "Training Loss:0.92854173172195\n",
            "Validation Loss:1.0022258063157399\n"
          ]
        },
        {
          "output_type": "stream",
          "name": "stderr",
          "text": [
            "\r 90%|█████████ | 27/30 [04:56<00:32, 10.92s/it]"
          ]
        },
        {
          "output_type": "stream",
          "name": "stdout",
          "text": [
            "Epoch: 26\n",
            "Validation Accuracy:66.22721552848816%\n",
            "Training Loss:1.0185089218166639\n",
            "Validation Loss:1.0332306275765102\n"
          ]
        },
        {
          "output_type": "stream",
          "name": "stderr",
          "text": [
            "\r 93%|█████████▎| 28/30 [05:06<00:21, 10.84s/it]"
          ]
        },
        {
          "output_type": "stream",
          "name": "stdout",
          "text": [
            "Epoch: 27\n",
            "Validation Accuracy:66.285240650177%\n",
            "Training Loss:0.8495329196723003\n",
            "Validation Loss:1.1583845416704814\n"
          ]
        },
        {
          "output_type": "stream",
          "name": "stderr",
          "text": [
            "\r 97%|█████████▋| 29/30 [05:18<00:10, 10.98s/it]"
          ]
        },
        {
          "output_type": "stream",
          "name": "stdout",
          "text": [
            "Epoch: 28\n",
            "Validation Accuracy:63.16731572151184%\n",
            "Training Loss:1.100708840028295\n",
            "Validation Loss:1.0855119824409485\n"
          ]
        },
        {
          "output_type": "stream",
          "name": "stderr",
          "text": [
            "100%|██████████| 30/30 [05:29<00:00, 10.97s/it]"
          ]
        },
        {
          "output_type": "stream",
          "name": "stdout",
          "text": [
            "Epoch: 29\n",
            "Validation Accuracy:67.84136891365051%\n",
            "Training Loss:1.0494627513975467\n",
            "Validation Loss:1.0441379398107529\n"
          ]
        },
        {
          "output_type": "stream",
          "name": "stderr",
          "text": [
            "\n"
          ]
        },
        {
          "output_type": "stream",
          "name": "stdout",
          "text": [
            "Test Accuracy:67.32422113418579%\n"
          ]
        },
        {
          "output_type": "stream",
          "name": "stderr",
          "text": [
            "  3%|▎         | 1/30 [00:11<05:33, 11.50s/it]"
          ]
        },
        {
          "output_type": "stream",
          "name": "stdout",
          "text": [
            "Epoch: 0\n",
            "Validation Accuracy:82.6023280620575%\n",
            "Training Loss:0.7750284660537288\n",
            "Validation Loss:0.4866553023457527\n"
          ]
        },
        {
          "output_type": "stream",
          "name": "stderr",
          "text": [
            "\r  7%|▋         | 2/30 [00:22<05:10, 11.11s/it]"
          ]
        },
        {
          "output_type": "stream",
          "name": "stdout",
          "text": [
            "Epoch: 1\n",
            "Validation Accuracy:83.107590675354%\n",
            "Training Loss:0.46091187843736614\n",
            "Validation Loss:0.4770137270291646\n"
          ]
        },
        {
          "output_type": "stream",
          "name": "stderr",
          "text": [
            "\r 10%|█         | 3/30 [00:33<05:04, 11.27s/it]"
          ]
        },
        {
          "output_type": "stream",
          "name": "stdout",
          "text": [
            "Epoch: 2\n",
            "Validation Accuracy:84.75217819213867%\n",
            "Training Loss:0.4119589036365725\n",
            "Validation Loss:0.4438158298532168\n"
          ]
        },
        {
          "output_type": "stream",
          "name": "stderr",
          "text": [
            "\r 13%|█▎        | 4/30 [00:44<04:49, 11.12s/it]"
          ]
        },
        {
          "output_type": "stream",
          "name": "stdout",
          "text": [
            "Epoch: 3\n",
            "Validation Accuracy:83.91573429107666%\n",
            "Training Loss:0.3991382732143942\n",
            "Validation Loss:0.4533868183692296\n"
          ]
        },
        {
          "output_type": "stream",
          "name": "stderr",
          "text": [
            "\r 17%|█▋        | 5/30 [00:55<04:37, 11.11s/it]"
          ]
        },
        {
          "output_type": "stream",
          "name": "stdout",
          "text": [
            "Epoch: 4\n",
            "Validation Accuracy:84.43231582641602%\n",
            "Training Loss:0.3936160442964086\n",
            "Validation Loss:0.45192500948905945\n"
          ]
        },
        {
          "output_type": "stream",
          "name": "stderr",
          "text": [
            "\r 20%|██        | 6/30 [01:06<04:24, 11.00s/it]"
          ]
        },
        {
          "output_type": "stream",
          "name": "stdout",
          "text": [
            "Epoch: 5\n",
            "Validation Accuracy:85.18809676170349%\n",
            "Training Loss:0.3689200535135449\n",
            "Validation Loss:0.4207263762752215\n"
          ]
        },
        {
          "output_type": "stream",
          "name": "stderr",
          "text": [
            "\r 23%|██▎       | 7/30 [01:17<04:12, 10.98s/it]"
          ]
        },
        {
          "output_type": "stream",
          "name": "stdout",
          "text": [
            "Epoch: 6\n",
            "Validation Accuracy:85.74360013008118%\n",
            "Training Loss:0.3559208931225651\n",
            "Validation Loss:0.4209643279512723\n"
          ]
        },
        {
          "output_type": "stream",
          "name": "stderr",
          "text": [
            "\r 27%|██▋       | 8/30 [01:28<04:03, 11.07s/it]"
          ]
        },
        {
          "output_type": "stream",
          "name": "stdout",
          "text": [
            "Epoch: 7\n",
            "Validation Accuracy:85.91201901435852%\n",
            "Training Loss:0.35214581326493677\n",
            "Validation Loss:0.40705348054567975\n"
          ]
        },
        {
          "output_type": "stream",
          "name": "stderr",
          "text": [
            "\r 30%|███       | 9/30 [01:39<03:53, 11.11s/it]"
          ]
        },
        {
          "output_type": "stream",
          "name": "stdout",
          "text": [
            "Epoch: 8\n",
            "Validation Accuracy:85.593581199646%\n",
            "Training Loss:0.3374004650790736\n",
            "Validation Loss:0.4182098259528478\n"
          ]
        },
        {
          "output_type": "stream",
          "name": "stderr",
          "text": [
            "\r 33%|███▎      | 10/30 [01:51<03:41, 11.09s/it]"
          ]
        },
        {
          "output_type": "stream",
          "name": "stdout",
          "text": [
            "Epoch: 9\n",
            "Validation Accuracy:85.49945950508118%\n",
            "Training Loss:0.33048757207843493\n",
            "Validation Loss:0.4506035844484965\n"
          ]
        },
        {
          "output_type": "stream",
          "name": "stderr",
          "text": [
            "\r 37%|███▋      | 11/30 [02:02<03:31, 11.15s/it]"
          ]
        },
        {
          "output_type": "stream",
          "name": "stdout",
          "text": [
            "Epoch: 10\n",
            "Validation Accuracy:85.70751547813416%\n",
            "Training Loss:0.3384332534558368\n",
            "Validation Loss:0.4230331579844157\n"
          ]
        },
        {
          "output_type": "stream",
          "name": "stderr",
          "text": [
            "\r 40%|████      | 12/30 [02:13<03:21, 11.21s/it]"
          ]
        },
        {
          "output_type": "stream",
          "name": "stdout",
          "text": [
            "Epoch: 11\n",
            "Validation Accuracy:85.82144379615784%\n",
            "Training Loss:0.3369580411686088\n",
            "Validation Loss:0.40934014320373535\n"
          ]
        },
        {
          "output_type": "stream",
          "name": "stderr",
          "text": [
            "\r 43%|████▎     | 13/30 [02:24<03:08, 11.11s/it]"
          ]
        },
        {
          "output_type": "stream",
          "name": "stdout",
          "text": [
            "Epoch: 12\n",
            "Validation Accuracy:85.64524054527283%\n",
            "Training Loss:0.3276400141558557\n",
            "Validation Loss:0.4333769604563713\n"
          ]
        },
        {
          "output_type": "stream",
          "name": "stderr",
          "text": [
            "\r 47%|████▋     | 14/30 [02:35<02:57, 11.08s/it]"
          ]
        },
        {
          "output_type": "stream",
          "name": "stdout",
          "text": [
            "Epoch: 13\n",
            "Validation Accuracy:86.1689031124115%\n",
            "Training Loss:0.3341863855438412\n",
            "Validation Loss:0.41806481530268985\n"
          ]
        },
        {
          "output_type": "stream",
          "name": "stderr",
          "text": [
            "\r 50%|█████     | 15/30 [02:46<02:46, 11.13s/it]"
          ]
        },
        {
          "output_type": "stream",
          "name": "stdout",
          "text": [
            "Epoch: 14\n",
            "Validation Accuracy:86.9268000125885%\n",
            "Training Loss:0.3159179791526974\n",
            "Validation Loss:0.448995182911555\n"
          ]
        },
        {
          "output_type": "stream",
          "name": "stderr",
          "text": [
            "\r 53%|█████▎    | 16/30 [02:57<02:35, 11.11s/it]"
          ]
        },
        {
          "output_type": "stream",
          "name": "stdout",
          "text": [
            "Epoch: 15\n",
            "Validation Accuracy:86.30972504615784%\n",
            "Training Loss:0.3074331823384987\n",
            "Validation Loss:0.39171580721934635\n"
          ]
        },
        {
          "output_type": "stream",
          "name": "stderr",
          "text": [
            "\r 57%|█████▋    | 17/30 [03:08<02:23, 11.03s/it]"
          ]
        },
        {
          "output_type": "stream",
          "name": "stdout",
          "text": [
            "Epoch: 16\n",
            "Validation Accuracy:86.30194067955017%\n",
            "Training Loss:0.29744841116216947\n",
            "Validation Loss:0.4389350265264511\n"
          ]
        },
        {
          "output_type": "stream",
          "name": "stderr",
          "text": [
            "\r 60%|██████    | 18/30 [03:19<02:12, 11.03s/it]"
          ]
        },
        {
          "output_type": "stream",
          "name": "stdout",
          "text": [
            "Epoch: 17\n",
            "Validation Accuracy:86.22126579284668%\n",
            "Training Loss:0.304177517457953\n",
            "Validation Loss:0.4171170766154925\n"
          ]
        },
        {
          "output_type": "stream",
          "name": "stderr",
          "text": [
            "\r 63%|██████▎   | 19/30 [03:30<02:01, 11.02s/it]"
          ]
        },
        {
          "output_type": "stream",
          "name": "stdout",
          "text": [
            "Epoch: 18\n",
            "Validation Accuracy:86.60905957221985%\n",
            "Training Loss:0.29379682875466795\n",
            "Validation Loss:0.40402516225973767\n"
          ]
        },
        {
          "output_type": "stream",
          "name": "stderr",
          "text": [
            "\r 67%|██████▋   | 20/30 [03:42<01:51, 11.10s/it]"
          ]
        },
        {
          "output_type": "stream",
          "name": "stdout",
          "text": [
            "Epoch: 19\n",
            "Validation Accuracy:86.16253733634949%\n",
            "Training Loss:0.2829201643197042\n",
            "Validation Loss:0.41304975748062134\n"
          ]
        },
        {
          "output_type": "stream",
          "name": "stderr",
          "text": [
            "\r 70%|███████   | 21/30 [03:53<01:39, 11.11s/it]"
          ]
        },
        {
          "output_type": "stream",
          "name": "stdout",
          "text": [
            "Epoch: 20\n",
            "Validation Accuracy:86.58571243286133%\n",
            "Training Loss:0.2882296797239555\n",
            "Validation Loss:0.4151056831081708\n"
          ]
        },
        {
          "output_type": "stream",
          "name": "stderr",
          "text": [
            "\r 73%|███████▎  | 22/30 [04:04<01:29, 11.19s/it]"
          ]
        },
        {
          "output_type": "stream",
          "name": "stdout",
          "text": [
            "Epoch: 21\n",
            "Validation Accuracy:86.6550624370575%\n",
            "Training Loss:0.28232185134910187\n",
            "Validation Loss:0.4056694606939952\n"
          ]
        },
        {
          "output_type": "stream",
          "name": "stderr",
          "text": [
            "\r 77%|███████▋  | 23/30 [04:16<01:19, 11.29s/it]"
          ]
        },
        {
          "output_type": "stream",
          "name": "stdout",
          "text": [
            "Epoch: 22\n",
            "Validation Accuracy:86.71591877937317%\n",
            "Training Loss:0.2831341344511734\n",
            "Validation Loss:0.4301014120380084\n"
          ]
        },
        {
          "output_type": "stream",
          "name": "stderr",
          "text": [
            "\r 80%|████████  | 24/30 [04:26<01:06, 11.16s/it]"
          ]
        },
        {
          "output_type": "stream",
          "name": "stdout",
          "text": [
            "Epoch: 23\n",
            "Validation Accuracy:85.52564978599548%\n",
            "Training Loss:0.29277532210327545\n",
            "Validation Loss:0.497901052236557\n"
          ]
        },
        {
          "output_type": "stream",
          "name": "stderr",
          "text": [
            "\r 83%|████████▎ | 25/30 [04:37<00:54, 11.00s/it]"
          ]
        },
        {
          "output_type": "stream",
          "name": "stdout",
          "text": [
            "Epoch: 24\n",
            "Validation Accuracy:84.95173454284668%\n",
            "Training Loss:0.30142139910526994\n",
            "Validation Loss:0.4580330227812131\n"
          ]
        },
        {
          "output_type": "stream",
          "name": "stderr",
          "text": [
            "\r 87%|████████▋ | 26/30 [04:49<00:44, 11.18s/it]"
          ]
        },
        {
          "output_type": "stream",
          "name": "stdout",
          "text": [
            "Epoch: 25\n",
            "Validation Accuracy:86.2177312374115%\n",
            "Training Loss:0.2974783405661583\n",
            "Validation Loss:0.4334863970677058\n"
          ]
        },
        {
          "output_type": "stream",
          "name": "stderr",
          "text": [
            "\r 90%|█████████ | 27/30 [05:00<00:33, 11.12s/it]"
          ]
        },
        {
          "output_type": "stream",
          "name": "stdout",
          "text": [
            "Epoch: 26\n",
            "Validation Accuracy:85.9035313129425%\n",
            "Training Loss:0.27821808898786327\n",
            "Validation Loss:0.4634486784537633\n"
          ]
        },
        {
          "output_type": "stream",
          "name": "stderr",
          "text": [
            "\r 93%|█████████▎| 28/30 [05:11<00:22, 11.15s/it]"
          ]
        },
        {
          "output_type": "stream",
          "name": "stdout",
          "text": [
            "Epoch: 27\n",
            "Validation Accuracy:86.02383136749268%\n",
            "Training Loss:0.2827672299067929\n",
            "Validation Loss:0.44758343199888867\n"
          ]
        },
        {
          "output_type": "stream",
          "name": "stderr",
          "text": [
            "\r 97%|█████████▋| 29/30 [05:22<00:11, 11.25s/it]"
          ]
        },
        {
          "output_type": "stream",
          "name": "stdout",
          "text": [
            "Epoch: 28\n",
            "Validation Accuracy:86.82206273078918%\n",
            "Training Loss:0.2893285776646632\n",
            "Validation Loss:0.4756833513577779\n"
          ]
        },
        {
          "output_type": "stream",
          "name": "stderr",
          "text": [
            "100%|██████████| 30/30 [05:34<00:00, 11.15s/it]"
          ]
        },
        {
          "output_type": "stream",
          "name": "stdout",
          "text": [
            "Epoch: 29\n",
            "Validation Accuracy:86.25381588935852%\n",
            "Training Loss:0.28464185896347155\n",
            "Validation Loss:0.4774126509825389\n"
          ]
        },
        {
          "output_type": "stream",
          "name": "stderr",
          "text": [
            "\n"
          ]
        },
        {
          "output_type": "stream",
          "name": "stdout",
          "text": [
            "Test Accuracy:85.888671875%\n"
          ]
        },
        {
          "output_type": "display_data",
          "data": {
            "text/plain": [
              "<Figure size 1000x500 with 2 Axes>"
            ],
            "image/png": "[encoded data removed]"
          },
          "metadata": {}
        },
        {
          "output_type": "display_data",
          "data": {
            "text/plain": [
              "<Figure size 1000x500 with 2 Axes>"
            ],
            "image/png": "[encoded data removed]"
          },
          "metadata": {}
        },
        {
          "output_type": "display_data",
          "data": {
            "text/plain": [
              "<Figure size 1000x500 with 2 Axes>"
            ],
            "image/png": "[encoded data removed]"
          },
          "metadata": {}
        }
      ]
    },
    {
      "cell_type": "markdown",
      "source": [
        "# **Dropout Comparison**"
      ],
      "metadata": {
        "id": "g6AJE3yKvGLH"
      }
    },
    {
      "cell_type": "code",
      "source": [
        "saved_states_rms_dropout_15 = parameter_tunning(neuron_dim_optimal, epochs, train_batches, val_batches, test_batches, 0.15, 'None', False, 'rms', 0.001)\n",
        "saved_states_rms_dropout_25 = parameter_tunning(neuron_dim_optimal, epochs, train_batches, val_batches, test_batches, 0.25, 'None', False, 'rms', 0.001)\n",
        "saved_states_rms_dropout_33 = parameter_tunning(neuron_dim_optimal, epochs, train_batches, val_batches, test_batches, 0.33, 'None', False, 'rms', 0.001)"
      ],
      "metadata": {
        "colab": {
          "base_uri": "https://localhost:8080/",
          "height": 1000
        },
        "id": "44aMLz7gdZ2Q",
        "outputId": "b3d86caa-4e41-4278-a58e-523e56005fdd"
      },
      "execution_count": 77,
      "outputs": [
        {
          "output_type": "stream",
          "name": "stderr",
          "text": [
            "  3%|▎         | 1/30 [00:11<05:36, 11.59s/it]"
          ]
        },
        {
          "output_type": "stream",
          "name": "stdout",
          "text": [
            "Epoch: 0\n",
            "Validation Accuracy:81.7998468875885%\n",
            "Training Loss:0.7702982285112705\n",
            "Validation Loss:0.5152695427338282\n"
          ]
        },
        {
          "output_type": "stream",
          "name": "stderr",
          "text": [
            "\r  7%|▋         | 2/30 [00:22<05:16, 11.31s/it]"
          ]
        },
        {
          "output_type": "stream",
          "name": "stdout",
          "text": [
            "Epoch: 1\n",
            "Validation Accuracy:83.15500617027283%\n",
            "Training Loss:0.5414867592307756\n",
            "Validation Loss:0.4705470974246661\n"
          ]
        },
        {
          "output_type": "stream",
          "name": "stderr",
          "text": [
            "\r 10%|█         | 3/30 [00:34<05:05, 11.32s/it]"
          ]
        },
        {
          "output_type": "stream",
          "name": "stdout",
          "text": [
            "Epoch: 2\n",
            "Validation Accuracy:83.67088437080383%\n",
            "Training Loss:0.5151751345058657\n",
            "Validation Loss:0.46324024349451065\n"
          ]
        },
        {
          "output_type": "stream",
          "name": "stderr",
          "text": [
            "\r 13%|█▎        | 4/30 [00:45<04:51, 11.23s/it]"
          ]
        },
        {
          "output_type": "stream",
          "name": "stdout",
          "text": [
            "Epoch: 3\n",
            "Validation Accuracy:84.77553725242615%\n",
            "Training Loss:0.48088910051111905\n",
            "Validation Loss:0.43594938268264133\n"
          ]
        },
        {
          "output_type": "stream",
          "name": "stderr",
          "text": [
            "\r 17%|█▋        | 5/30 [00:56<04:37, 11.12s/it]"
          ]
        },
        {
          "output_type": "stream",
          "name": "stdout",
          "text": [
            "Epoch: 4\n",
            "Validation Accuracy:85.17040610313416%\n",
            "Training Loss:0.4767009222282554\n",
            "Validation Loss:0.4293799599011739\n"
          ]
        },
        {
          "output_type": "stream",
          "name": "stderr",
          "text": [
            "\r 20%|██        | 6/30 [01:07<04:28, 11.20s/it]"
          ]
        },
        {
          "output_type": "stream",
          "name": "stdout",
          "text": [
            "Epoch: 5\n",
            "Validation Accuracy:84.63046550750732%\n",
            "Training Loss:0.4547872026011629\n",
            "Validation Loss:0.42421649396419525\n"
          ]
        },
        {
          "output_type": "stream",
          "name": "stderr",
          "text": [
            "\r 23%|██▎       | 7/30 [01:18<04:17, 11.22s/it]"
          ]
        },
        {
          "output_type": "stream",
          "name": "stdout",
          "text": [
            "Epoch: 6\n",
            "Validation Accuracy:84.78897213935852%\n",
            "Training Loss:0.44436717933078984\n",
            "Validation Loss:0.41360492010911304\n"
          ]
        },
        {
          "output_type": "stream",
          "name": "stderr",
          "text": [
            "\r 27%|██▋       | 8/30 [01:29<04:06, 11.19s/it]"
          ]
        },
        {
          "output_type": "stream",
          "name": "stdout",
          "text": [
            "Epoch: 7\n",
            "Validation Accuracy:85.27938723564148%\n",
            "Training Loss:0.4472692861871899\n",
            "Validation Loss:0.42033422489960987\n"
          ]
        },
        {
          "output_type": "stream",
          "name": "stderr",
          "text": [
            "\r 30%|███       | 9/30 [01:41<03:56, 11.24s/it]"
          ]
        },
        {
          "output_type": "stream",
          "name": "stdout",
          "text": [
            "Epoch: 8\n",
            "Validation Accuracy:85.60277819633484%\n",
            "Training Loss:0.42749144221251867\n",
            "Validation Loss:0.41395491113265354\n"
          ]
        },
        {
          "output_type": "stream",
          "name": "stderr",
          "text": [
            "\r 33%|███▎      | 10/30 [01:51<03:41, 11.10s/it]"
          ]
        },
        {
          "output_type": "stream",
          "name": "stdout",
          "text": [
            "Epoch: 9\n",
            "Validation Accuracy:85.96863746643066%\n",
            "Training Loss:0.4251880128428621\n",
            "Validation Loss:0.39629651854435605\n"
          ]
        },
        {
          "output_type": "stream",
          "name": "stderr",
          "text": [
            "\r 37%|███▋      | 11/30 [02:03<03:31, 11.11s/it]"
          ]
        },
        {
          "output_type": "stream",
          "name": "stdout",
          "text": [
            "Epoch: 10\n",
            "Validation Accuracy:84.84983444213867%\n",
            "Training Loss:0.4226245880126953\n",
            "Validation Loss:0.41499128689368564\n"
          ]
        },
        {
          "output_type": "stream",
          "name": "stderr",
          "text": [
            "\r 40%|████      | 12/30 [02:14<03:21, 11.22s/it]"
          ]
        },
        {
          "output_type": "stream",
          "name": "stdout",
          "text": [
            "Epoch: 11\n",
            "Validation Accuracy:84.909987449646%\n",
            "Training Loss:0.4282936619700126\n",
            "Validation Loss:0.43414945155382156\n"
          ]
        },
        {
          "output_type": "stream",
          "name": "stderr",
          "text": [
            "\r 43%|████▎     | 13/30 [02:25<03:10, 11.19s/it]"
          ]
        },
        {
          "output_type": "stream",
          "name": "stdout",
          "text": [
            "Epoch: 12\n",
            "Validation Accuracy:85.71670651435852%\n",
            "Training Loss:0.4171214157117988\n",
            "Validation Loss:0.41173243522644043\n"
          ]
        },
        {
          "output_type": "stream",
          "name": "stderr",
          "text": [
            "\r 47%|████▋     | 14/30 [02:36<02:58, 11.19s/it]"
          ]
        },
        {
          "output_type": "stream",
          "name": "stdout",
          "text": [
            "Epoch: 13\n",
            "Validation Accuracy:86.02595329284668%\n",
            "Training Loss:0.4208927888352916\n",
            "Validation Loss:0.41672851890325546\n"
          ]
        },
        {
          "output_type": "stream",
          "name": "stderr",
          "text": [
            "\r 50%|█████     | 15/30 [02:47<02:46, 11.10s/it]"
          ]
        },
        {
          "output_type": "stream",
          "name": "stdout",
          "text": [
            "Epoch: 14\n",
            "Validation Accuracy:86.41162514686584%\n",
            "Training Loss:0.42136015194766924\n",
            "Validation Loss:0.40909818063179654\n"
          ]
        },
        {
          "output_type": "stream",
          "name": "stderr",
          "text": [
            "\r 53%|█████▎    | 16/30 [02:59<02:36, 11.16s/it]"
          ]
        },
        {
          "output_type": "stream",
          "name": "stdout",
          "text": [
            "Epoch: 15\n",
            "Validation Accuracy:85.40887832641602%\n",
            "Training Loss:0.40852195755490717\n",
            "Validation Loss:0.41828919450442\n"
          ]
        },
        {
          "output_type": "stream",
          "name": "stderr",
          "text": [
            "\r 57%|█████▋    | 17/30 [03:10<02:25, 11.17s/it]"
          ]
        },
        {
          "output_type": "stream",
          "name": "stdout",
          "text": [
            "Epoch: 16\n",
            "Validation Accuracy:86.21490001678467%\n",
            "Training Loss:0.40409318203071376\n",
            "Validation Loss:0.40199809273084003\n"
          ]
        },
        {
          "output_type": "stream",
          "name": "stderr",
          "text": [
            "\r 60%|██████    | 18/30 [03:21<02:15, 11.26s/it]"
          ]
        },
        {
          "output_type": "stream",
          "name": "stdout",
          "text": [
            "Epoch: 17\n",
            "Validation Accuracy:85.50229072570801%\n",
            "Training Loss:0.39786682404437157\n",
            "Validation Loss:0.42906281103690463\n"
          ]
        },
        {
          "output_type": "stream",
          "name": "stderr",
          "text": [
            "\r 63%|██████▎   | 19/30 [03:33<02:04, 11.35s/it]"
          ]
        },
        {
          "output_type": "stream",
          "name": "stdout",
          "text": [
            "Epoch: 18\n",
            "Validation Accuracy:86.02595329284668%\n",
            "Training Loss:0.40096017015430163\n",
            "Validation Loss:0.4009641036391258\n"
          ]
        },
        {
          "output_type": "stream",
          "name": "stderr",
          "text": [
            "\r 67%|██████▋   | 20/30 [03:44<01:52, 11.30s/it]"
          ]
        },
        {
          "output_type": "stream",
          "name": "stdout",
          "text": [
            "Epoch: 19\n",
            "Validation Accuracy:85.33740639686584%\n",
            "Training Loss:0.39897848974983646\n",
            "Validation Loss:0.41447639216979343\n"
          ]
        },
        {
          "output_type": "stream",
          "name": "stderr",
          "text": [
            "\r 70%|███████   | 21/30 [03:55<01:41, 11.30s/it]"
          ]
        },
        {
          "output_type": "stream",
          "name": "stdout",
          "text": [
            "Epoch: 20\n",
            "Validation Accuracy:86.38402819633484%\n",
            "Training Loss:0.39435446037436434\n",
            "Validation Loss:0.4042284960548083\n"
          ]
        },
        {
          "output_type": "stream",
          "name": "stderr",
          "text": [
            "\r 73%|███████▎  | 22/30 [04:06<01:30, 11.26s/it]"
          ]
        },
        {
          "output_type": "stream",
          "name": "stdout",
          "text": [
            "Epoch: 21\n",
            "Validation Accuracy:87.07682490348816%\n",
            "Training Loss:0.38740177902410616\n",
            "Validation Loss:0.4078502630194028\n"
          ]
        },
        {
          "output_type": "stream",
          "name": "stderr",
          "text": [
            "\r 77%|███████▋  | 23/30 [04:17<01:18, 11.16s/it]"
          ]
        },
        {
          "output_type": "stream",
          "name": "stdout",
          "text": [
            "Epoch: 22\n",
            "Validation Accuracy:87.50920295715332%\n",
            "Training Loss:0.3779848923660674\n",
            "Validation Loss:0.3859473144014676\n"
          ]
        },
        {
          "output_type": "stream",
          "name": "stderr",
          "text": [
            "\r 80%|████████  | 24/30 [04:29<01:07, 11.17s/it]"
          ]
        },
        {
          "output_type": "stream",
          "name": "stdout",
          "text": [
            "Epoch: 23\n",
            "Validation Accuracy:86.86240315437317%\n",
            "Training Loss:0.37290313474412234\n",
            "Validation Loss:0.3984016602238019\n"
          ]
        },
        {
          "output_type": "stream",
          "name": "stderr",
          "text": [
            "\r 83%|████████▎ | 25/30 [04:40<00:55, 11.19s/it]"
          ]
        },
        {
          "output_type": "stream",
          "name": "stdout",
          "text": [
            "Epoch: 24\n",
            "Validation Accuracy:86.3429844379425%\n",
            "Training Loss:0.3814308523850621\n",
            "Validation Loss:0.4171175956726074\n"
          ]
        },
        {
          "output_type": "stream",
          "name": "stderr",
          "text": [
            "\r 87%|████████▋ | 26/30 [04:51<00:44, 11.18s/it]"
          ]
        },
        {
          "output_type": "stream",
          "name": "stdout",
          "text": [
            "Epoch: 25\n",
            "Validation Accuracy:87.13201880455017%\n",
            "Training Loss:0.3899498371020803\n",
            "Validation Loss:0.38334863384564716\n"
          ]
        },
        {
          "output_type": "stream",
          "name": "stderr",
          "text": [
            "\r 90%|█████████ | 27/30 [05:02<00:33, 11.19s/it]"
          ]
        },
        {
          "output_type": "stream",
          "name": "stdout",
          "text": [
            "Epoch: 26\n",
            "Validation Accuracy:85.72025299072266%\n",
            "Training Loss:0.3821329727487744\n",
            "Validation Loss:0.4062177613377571\n"
          ]
        },
        {
          "output_type": "stream",
          "name": "stderr",
          "text": [
            "\r 93%|█████████▎| 28/30 [05:14<00:22, 11.38s/it]"
          ]
        },
        {
          "output_type": "stream",
          "name": "stdout",
          "text": [
            "Epoch: 27\n",
            "Validation Accuracy:86.0457718372345%\n",
            "Training Loss:0.39036254641020074\n",
            "Validation Loss:0.4117562373479207\n"
          ]
        },
        {
          "output_type": "stream",
          "name": "stderr",
          "text": [
            "\r 97%|█████████▋| 29/30 [05:25<00:11, 11.28s/it]"
          ]
        },
        {
          "output_type": "stream",
          "name": "stdout",
          "text": [
            "Epoch: 28\n",
            "Validation Accuracy:86.54537200927734%\n",
            "Training Loss:0.38743584026705546\n",
            "Validation Loss:0.4193302517135938\n"
          ]
        },
        {
          "output_type": "stream",
          "name": "stderr",
          "text": [
            "100%|██████████| 30/30 [05:36<00:00, 11.22s/it]"
          ]
        },
        {
          "output_type": "stream",
          "name": "stdout",
          "text": [
            "Epoch: 29\n",
            "Validation Accuracy:87.13980317115784%\n",
            "Training Loss:0.3764997959699271\n",
            "Validation Loss:0.3972358579436938\n"
          ]
        },
        {
          "output_type": "stream",
          "name": "stderr",
          "text": [
            "\n"
          ]
        },
        {
          "output_type": "stream",
          "name": "stdout",
          "text": [
            "Test Accuracy:85.6738269329071%\n"
          ]
        },
        {
          "output_type": "stream",
          "name": "stderr",
          "text": [
            "  3%|▎         | 1/30 [00:10<05:12, 10.77s/it]"
          ]
        },
        {
          "output_type": "stream",
          "name": "stdout",
          "text": [
            "Epoch: 0\n",
            "Validation Accuracy:77.35790610313416%\n",
            "Training Loss:0.7833659052848816\n",
            "Validation Loss:0.5585249414046606\n"
          ]
        },
        {
          "output_type": "stream",
          "name": "stderr",
          "text": [
            "\r  7%|▋         | 2/30 [00:22<05:10, 11.10s/it]"
          ]
        },
        {
          "output_type": "stream",
          "name": "stdout",
          "text": [
            "Epoch: 1\n",
            "Validation Accuracy:80.90537190437317%\n",
            "Training Loss:0.6198600488451292\n",
            "Validation Loss:0.5267518510421118\n"
          ]
        },
        {
          "output_type": "stream",
          "name": "stderr",
          "text": [
            "\r 10%|█         | 3/30 [00:33<05:00, 11.12s/it]"
          ]
        },
        {
          "output_type": "stream",
          "name": "stdout",
          "text": [
            "Epoch: 2\n",
            "Validation Accuracy:83.35809707641602%\n",
            "Training Loss:0.5768223790065298\n",
            "Validation Loss:0.47528379162152606\n"
          ]
        },
        {
          "output_type": "stream",
          "name": "stderr",
          "text": [
            "\r 13%|█▎        | 4/30 [00:44<04:49, 11.12s/it]"
          ]
        },
        {
          "output_type": "stream",
          "name": "stdout",
          "text": [
            "Epoch: 3\n",
            "Validation Accuracy:82.56056904792786%\n",
            "Training Loss:0.5442241601786524\n",
            "Validation Loss:0.4888264959057172\n"
          ]
        },
        {
          "output_type": "stream",
          "name": "stderr",
          "text": [
            "\r 17%|█▋        | 5/30 [00:55<04:37, 11.11s/it]"
          ]
        },
        {
          "output_type": "stream",
          "name": "stdout",
          "text": [
            "Epoch: 4\n",
            "Validation Accuracy:84.45920944213867%\n",
            "Training Loss:0.5276005821970274\n",
            "Validation Loss:0.4506904607017835\n"
          ]
        },
        {
          "output_type": "stream",
          "name": "stderr",
          "text": [
            "\r 20%|██        | 6/30 [01:06<04:23, 10.96s/it]"
          ]
        },
        {
          "output_type": "stream",
          "name": "stdout",
          "text": [
            "Epoch: 5\n",
            "Validation Accuracy:84.89229679107666%\n",
            "Training Loss:0.5114184221569097\n",
            "Validation Loss:0.4331102992097537\n"
          ]
        },
        {
          "output_type": "stream",
          "name": "stderr",
          "text": [
            "\r 23%|██▎       | 7/30 [01:17<04:13, 11.04s/it]"
          ]
        },
        {
          "output_type": "stream",
          "name": "stdout",
          "text": [
            "Epoch: 6\n",
            "Validation Accuracy:84.50379371643066%\n",
            "Training Loss:0.5044876455136065\n",
            "Validation Loss:0.43550291905800503\n"
          ]
        },
        {
          "output_type": "stream",
          "name": "stderr",
          "text": [
            "\r 27%|██▋       | 8/30 [01:28<04:03, 11.08s/it]"
          ]
        },
        {
          "output_type": "stream",
          "name": "stdout",
          "text": [
            "Epoch: 7\n",
            "Validation Accuracy:84.93971228599548%\n",
            "Training Loss:0.49589824845206065\n",
            "Validation Loss:0.43642344574133557\n"
          ]
        },
        {
          "output_type": "stream",
          "name": "stderr",
          "text": [
            "\r 30%|███       | 9/30 [01:39<03:51, 11.01s/it]"
          ]
        },
        {
          "output_type": "stream",
          "name": "stdout",
          "text": [
            "Epoch: 8\n",
            "Validation Accuracy:83.72678756713867%\n",
            "Training Loss:0.4884533184879231\n",
            "Validation Loss:0.4669405519962311\n"
          ]
        },
        {
          "output_type": "stream",
          "name": "stderr",
          "text": [
            "\r 33%|███▎      | 10/30 [01:50<03:39, 11.00s/it]"
          ]
        },
        {
          "output_type": "stream",
          "name": "stdout",
          "text": [
            "Epoch: 9\n",
            "Validation Accuracy:85.28645634651184%\n",
            "Training Loss:0.5025144143486923\n",
            "Validation Loss:0.43067074070374173\n"
          ]
        },
        {
          "output_type": "stream",
          "name": "stderr",
          "text": [
            "\r 37%|███▋      | 11/30 [02:01<03:28, 10.99s/it]"
          ]
        },
        {
          "output_type": "stream",
          "name": "stdout",
          "text": [
            "Epoch: 10\n",
            "Validation Accuracy:84.82577800750732%\n",
            "Training Loss:0.49605382838339174\n",
            "Validation Loss:0.43380877872308093\n"
          ]
        },
        {
          "output_type": "stream",
          "name": "stderr",
          "text": [
            "\r 40%|████      | 12/30 [02:12<03:17, 10.95s/it]"
          ]
        },
        {
          "output_type": "stream",
          "name": "stdout",
          "text": [
            "Epoch: 11\n",
            "Validation Accuracy:85.47964692115784%\n",
            "Training Loss:0.478684996658901\n",
            "Validation Loss:0.4220615004499753\n"
          ]
        },
        {
          "output_type": "stream",
          "name": "stderr",
          "text": [
            "\r 43%|████▎     | 13/30 [02:23<03:06, 10.95s/it]"
          ]
        },
        {
          "output_type": "stream",
          "name": "stdout",
          "text": [
            "Epoch: 12\n",
            "Validation Accuracy:84.34315323829651%\n",
            "Training Loss:0.4771402340452626\n",
            "Validation Loss:0.43323201437791187\n"
          ]
        },
        {
          "output_type": "stream",
          "name": "stderr",
          "text": [
            "\r 47%|████▋     | 14/30 [02:34<02:55, 10.94s/it]"
          ]
        },
        {
          "output_type": "stream",
          "name": "stdout",
          "text": [
            "Epoch: 13\n",
            "Validation Accuracy:85.02533435821533%\n",
            "Training Loss:0.4616698122249459\n",
            "Validation Loss:0.4195965776840846\n"
          ]
        },
        {
          "output_type": "stream",
          "name": "stderr",
          "text": [
            "\r 50%|█████     | 15/30 [02:44<02:43, 10.91s/it]"
          ]
        },
        {
          "output_type": "stream",
          "name": "stdout",
          "text": [
            "Epoch: 14\n",
            "Validation Accuracy:85.22135615348816%\n",
            "Training Loss:0.4540741336795519\n",
            "Validation Loss:0.4210718671480815\n"
          ]
        },
        {
          "output_type": "stream",
          "name": "stderr",
          "text": [
            "\r 53%|█████▎    | 16/30 [02:55<02:32, 10.92s/it]"
          ]
        },
        {
          "output_type": "stream",
          "name": "stdout",
          "text": [
            "Epoch: 15\n",
            "Validation Accuracy:85.84904670715332%\n",
            "Training Loss:0.45511002866727\n",
            "Validation Loss:0.41460520525773364\n"
          ]
        },
        {
          "output_type": "stream",
          "name": "stderr",
          "text": [
            "\r 57%|█████▋    | 17/30 [03:06<02:21, 10.91s/it]"
          ]
        },
        {
          "output_type": "stream",
          "name": "stdout",
          "text": [
            "Epoch: 16\n",
            "Validation Accuracy:85.13502478599548%\n",
            "Training Loss:0.46755861617484185\n",
            "Validation Loss:0.4246990183989207\n"
          ]
        },
        {
          "output_type": "stream",
          "name": "stderr",
          "text": [
            "\r 60%|██████    | 18/30 [03:18<02:12, 11.07s/it]"
          ]
        },
        {
          "output_type": "stream",
          "name": "stdout",
          "text": [
            "Epoch: 17\n",
            "Validation Accuracy:85.05010604858398%\n",
            "Training Loss:0.46474221629916496\n",
            "Validation Loss:0.428190511961778\n"
          ]
        },
        {
          "output_type": "stream",
          "name": "stderr",
          "text": [
            "\r 63%|██████▎   | 19/30 [03:28<02:00, 10.96s/it]"
          ]
        },
        {
          "output_type": "stream",
          "name": "stdout",
          "text": [
            "Epoch: 18\n",
            "Validation Accuracy:84.31909680366516%\n",
            "Training Loss:0.46146085408498655\n",
            "Validation Loss:0.4350647032260895\n"
          ]
        },
        {
          "output_type": "stream",
          "name": "stderr",
          "text": [
            "\r 67%|██████▋   | 20/30 [03:39<01:49, 10.95s/it]"
          ]
        },
        {
          "output_type": "stream",
          "name": "stdout",
          "text": [
            "Epoch: 19\n",
            "Validation Accuracy:85.73015332221985%\n",
            "Training Loss:0.4626426916077452\n",
            "Validation Loss:0.4157010614871979\n"
          ]
        },
        {
          "output_type": "stream",
          "name": "stderr",
          "text": [
            "\r 70%|███████   | 21/30 [03:50<01:38, 10.99s/it]"
          ]
        },
        {
          "output_type": "stream",
          "name": "stdout",
          "text": [
            "Epoch: 20\n",
            "Validation Accuracy:84.96801257133484%\n",
            "Training Loss:0.448578879518329\n",
            "Validation Loss:0.40218961735566455\n"
          ]
        },
        {
          "output_type": "stream",
          "name": "stderr",
          "text": [
            "\r 73%|███████▎  | 22/30 [04:02<01:28, 11.11s/it]"
          ]
        },
        {
          "output_type": "stream",
          "name": "stdout",
          "text": [
            "Epoch: 21\n",
            "Validation Accuracy:86.10379695892334%\n",
            "Training Loss:0.444766639819685\n",
            "Validation Loss:0.4144771620631218\n"
          ]
        },
        {
          "output_type": "stream",
          "name": "stderr",
          "text": [
            "\r 77%|███████▋  | 23/30 [04:12<01:16, 10.98s/it]"
          ]
        },
        {
          "output_type": "stream",
          "name": "stdout",
          "text": [
            "Epoch: 22\n",
            "Validation Accuracy:86.22481226921082%\n",
            "Training Loss:0.4524897446609893\n",
            "Validation Loss:0.3983582655588786\n"
          ]
        },
        {
          "output_type": "stream",
          "name": "stderr",
          "text": [
            "\r 80%|████████  | 24/30 [04:24<01:06, 11.16s/it]"
          ]
        },
        {
          "output_type": "stream",
          "name": "stdout",
          "text": [
            "Epoch: 23\n",
            "Validation Accuracy:86.06275916099548%\n",
            "Training Loss:0.43848795935792745\n",
            "Validation Loss:0.3996773734688759\n"
          ]
        },
        {
          "output_type": "stream",
          "name": "stderr",
          "text": [
            "\r 83%|████████▎ | 25/30 [04:35<00:55, 11.14s/it]"
          ]
        },
        {
          "output_type": "stream",
          "name": "stdout",
          "text": [
            "Epoch: 24\n",
            "Validation Accuracy:85.398268699646%\n",
            "Training Loss:0.4399158378254692\n",
            "Validation Loss:0.42985086143016815\n"
          ]
        },
        {
          "output_type": "stream",
          "name": "stderr",
          "text": [
            "\r 87%|████████▋ | 26/30 [04:47<00:45, 11.26s/it]"
          ]
        },
        {
          "output_type": "stream",
          "name": "stdout",
          "text": [
            "Epoch: 25\n",
            "Validation Accuracy:86.2665593624115%\n",
            "Training Loss:0.4407897316059976\n",
            "Validation Loss:0.41204993426799774\n"
          ]
        },
        {
          "output_type": "stream",
          "name": "stderr",
          "text": [
            "\r 90%|█████████ | 27/30 [04:58<00:33, 11.25s/it]"
          ]
        },
        {
          "output_type": "stream",
          "name": "stdout",
          "text": [
            "Epoch: 26\n",
            "Validation Accuracy:85.62896251678467%\n",
            "Training Loss:0.4403605820997706\n",
            "Validation Loss:0.40204016615947086\n"
          ]
        },
        {
          "output_type": "stream",
          "name": "stderr",
          "text": [
            "\r 93%|█████████▎| 28/30 [05:09<00:22, 11.20s/it]"
          ]
        },
        {
          "output_type": "stream",
          "name": "stdout",
          "text": [
            "Epoch: 27\n",
            "Validation Accuracy:84.71326231956482%\n",
            "Training Loss:0.4486041021234584\n",
            "Validation Loss:0.4344632849097252\n"
          ]
        },
        {
          "output_type": "stream",
          "name": "stderr",
          "text": [
            "\r 97%|█████████▋| 29/30 [05:21<00:11, 11.43s/it]"
          ]
        },
        {
          "output_type": "stream",
          "name": "stdout",
          "text": [
            "Epoch: 28\n",
            "Validation Accuracy:85.88584065437317%\n",
            "Training Loss:0.4480197750172525\n",
            "Validation Loss:0.41579610606034595\n"
          ]
        },
        {
          "output_type": "stream",
          "name": "stderr",
          "text": [
            "100%|██████████| 30/30 [05:33<00:00, 11.10s/it]"
          ]
        },
        {
          "output_type": "stream",
          "name": "stdout",
          "text": [
            "Epoch: 29\n",
            "Validation Accuracy:85.84763407707214%\n",
            "Training Loss:0.45023522708775865\n",
            "Validation Loss:0.40426333248615265\n"
          ]
        },
        {
          "output_type": "stream",
          "name": "stderr",
          "text": [
            "\n"
          ]
        },
        {
          "output_type": "stream",
          "name": "stdout",
          "text": [
            "Test Accuracy:85.36132574081421%\n"
          ]
        },
        {
          "output_type": "stream",
          "name": "stderr",
          "text": [
            "  3%|▎         | 1/30 [00:11<05:23, 11.14s/it]"
          ]
        },
        {
          "output_type": "stream",
          "name": "stdout",
          "text": [
            "Epoch: 0\n",
            "Validation Accuracy:82.36809372901917%\n",
            "Training Loss:0.8296166489709098\n",
            "Validation Loss:0.5264380797743797\n"
          ]
        },
        {
          "output_type": "stream",
          "name": "stderr",
          "text": [
            "\r  7%|▋         | 2/30 [00:22<05:11, 11.11s/it]"
          ]
        },
        {
          "output_type": "stream",
          "name": "stdout",
          "text": [
            "Epoch: 1\n",
            "Validation Accuracy:82.66672492027283%\n",
            "Training Loss:0.6528325187710097\n",
            "Validation Loss:0.4860904465119044\n"
          ]
        },
        {
          "output_type": "stream",
          "name": "stderr",
          "text": [
            "\r 10%|█         | 3/30 [00:33<05:06, 11.36s/it]"
          ]
        },
        {
          "output_type": "stream",
          "name": "stdout",
          "text": [
            "Epoch: 2\n",
            "Validation Accuracy:82.51174092292786%\n",
            "Training Loss:0.6162668072952414\n",
            "Validation Loss:0.4883562798301379\n"
          ]
        },
        {
          "output_type": "stream",
          "name": "stderr",
          "text": [
            "\r 13%|█▎        | 4/30 [00:45<04:53, 11.30s/it]"
          ]
        },
        {
          "output_type": "stream",
          "name": "stdout",
          "text": [
            "Epoch: 3\n",
            "Validation Accuracy:82.1140468120575%\n",
            "Training Loss:0.5921349328643871\n",
            "Validation Loss:0.49512114624182385\n"
          ]
        },
        {
          "output_type": "stream",
          "name": "stderr",
          "text": [
            "\r 17%|█▋        | 5/30 [00:55<04:38, 11.13s/it]"
          ]
        },
        {
          "output_type": "stream",
          "name": "stdout",
          "text": [
            "Epoch: 4\n",
            "Validation Accuracy:84.63258743286133%\n",
            "Training Loss:0.5843899671761494\n",
            "Validation Loss:0.4489019190271695\n"
          ]
        },
        {
          "output_type": "stream",
          "name": "stderr",
          "text": [
            "\r 20%|██        | 6/30 [01:07<04:29, 11.23s/it]"
          ]
        },
        {
          "output_type": "stream",
          "name": "stdout",
          "text": [
            "Epoch: 5\n",
            "Validation Accuracy:83.42674374580383%\n",
            "Training Loss:0.56523397705465\n",
            "Validation Loss:0.45527009665966034\n"
          ]
        },
        {
          "output_type": "stream",
          "name": "stderr",
          "text": [
            "\r 23%|██▎       | 7/30 [01:18<04:19, 11.28s/it]"
          ]
        },
        {
          "output_type": "stream",
          "name": "stdout",
          "text": [
            "Epoch: 6\n",
            "Validation Accuracy:83.46778750419617%\n",
            "Training Loss:0.5628951681110094\n",
            "Validation Loss:0.47392963121334714\n"
          ]
        },
        {
          "output_type": "stream",
          "name": "stderr",
          "text": [
            "\r 27%|██▋       | 8/30 [01:29<04:06, 11.21s/it]"
          ]
        },
        {
          "output_type": "stream",
          "name": "stdout",
          "text": [
            "Epoch: 7\n",
            "Validation Accuracy:84.01904702186584%\n",
            "Training Loss:0.5547134727239609\n",
            "Validation Loss:0.4565252438187599\n"
          ]
        },
        {
          "output_type": "stream",
          "name": "stderr",
          "text": [
            "\r 30%|███       | 9/30 [01:40<03:53, 11.10s/it]"
          ]
        },
        {
          "output_type": "stream",
          "name": "stdout",
          "text": [
            "Epoch: 8\n",
            "Validation Accuracy:84.73731875419617%\n",
            "Training Loss:0.535672906153607\n",
            "Validation Loss:0.4333203633626302\n"
          ]
        },
        {
          "output_type": "stream",
          "name": "stderr",
          "text": [
            "\r 33%|███▎      | 10/30 [01:52<03:44, 11.21s/it]"
          ]
        },
        {
          "output_type": "stream",
          "name": "stdout",
          "text": [
            "Epoch: 9\n",
            "Validation Accuracy:84.06646251678467%\n",
            "Training Loss:0.5350937891118931\n",
            "Validation Loss:0.4324293906490008\n"
          ]
        },
        {
          "output_type": "stream",
          "name": "stderr",
          "text": [
            "\r 37%|███▋      | 11/30 [02:03<03:35, 11.35s/it]"
          ]
        },
        {
          "output_type": "stream",
          "name": "stdout",
          "text": [
            "Epoch: 10\n",
            "Validation Accuracy:84.85479354858398%\n",
            "Training Loss:0.5428241347929217\n",
            "Validation Loss:0.4403451730807622\n"
          ]
        },
        {
          "output_type": "stream",
          "name": "stderr",
          "text": [
            "\r 40%|████      | 12/30 [02:14<03:21, 11.17s/it]"
          ]
        },
        {
          "output_type": "stream",
          "name": "stdout",
          "text": [
            "Epoch: 11\n",
            "Validation Accuracy:83.53076577186584%\n",
            "Training Loss:0.5374910797712937\n",
            "Validation Loss:0.4397101551294327\n"
          ]
        },
        {
          "output_type": "stream",
          "name": "stderr",
          "text": [
            "\r 43%|████▎     | 13/30 [02:25<03:07, 11.03s/it]"
          ]
        },
        {
          "output_type": "stream",
          "name": "stdout",
          "text": [
            "Epoch: 12\n",
            "Validation Accuracy:84.09618735313416%\n",
            "Training Loss:0.5322577874615507\n",
            "Validation Loss:0.4497469837466876\n"
          ]
        },
        {
          "output_type": "stream",
          "name": "stderr",
          "text": [
            "\r 47%|████▋     | 14/30 [02:36<02:58, 11.17s/it]"
          ]
        },
        {
          "output_type": "stream",
          "name": "stdout",
          "text": [
            "Epoch: 13\n",
            "Validation Accuracy:83.91502499580383%\n",
            "Training Loss:0.514200007296958\n",
            "Validation Loss:0.44454887757698697\n"
          ]
        },
        {
          "output_type": "stream",
          "name": "stderr",
          "text": [
            "\r 50%|█████     | 15/30 [02:47<02:46, 11.10s/it]"
          ]
        },
        {
          "output_type": "stream",
          "name": "stdout",
          "text": [
            "Epoch: 14\n",
            "Validation Accuracy:84.90219712257385%\n",
            "Training Loss:0.5254246167979151\n",
            "Validation Loss:0.4277142435312271\n"
          ]
        },
        {
          "output_type": "stream",
          "name": "stderr",
          "text": [
            "\r 53%|█████▎    | 16/30 [02:58<02:35, 11.12s/it]"
          ]
        },
        {
          "output_type": "stream",
          "name": "stdout",
          "text": [
            "Epoch: 15\n",
            "Validation Accuracy:85.41737198829651%\n",
            "Training Loss:0.5255935523869857\n",
            "Validation Loss:0.4139240011572838\n"
          ]
        },
        {
          "output_type": "stream",
          "name": "stderr",
          "text": [
            "\r 57%|█████▋    | 17/30 [03:10<02:25, 11.18s/it]"
          ]
        },
        {
          "output_type": "stream",
          "name": "stdout",
          "text": [
            "Epoch: 16\n",
            "Validation Accuracy:84.95952486991882%\n",
            "Training Loss:0.5122773939708494\n",
            "Validation Loss:0.42655616998672485\n"
          ]
        },
        {
          "output_type": "stream",
          "name": "stderr",
          "text": [
            "\r 60%|██████    | 18/30 [03:21<02:14, 11.24s/it]"
          ]
        },
        {
          "output_type": "stream",
          "name": "stdout",
          "text": [
            "Epoch: 17\n",
            "Validation Accuracy:83.87751579284668%\n",
            "Training Loss:0.5206329099974543\n",
            "Validation Loss:0.43292441219091415\n"
          ]
        },
        {
          "output_type": "stream",
          "name": "stderr",
          "text": [
            "\r 63%|██████▎   | 19/30 [03:32<02:02, 11.15s/it]"
          ]
        },
        {
          "output_type": "stream",
          "name": "stdout",
          "text": [
            "Epoch: 18\n",
            "Validation Accuracy:85.06566882133484%\n",
            "Training Loss:0.5106687104364611\n",
            "Validation Loss:0.4213403711716334\n"
          ]
        },
        {
          "output_type": "stream",
          "name": "stderr",
          "text": [
            "\r 67%|██████▋   | 20/30 [03:43<01:50, 11.07s/it]"
          ]
        },
        {
          "output_type": "stream",
          "name": "stdout",
          "text": [
            "Epoch: 19\n",
            "Validation Accuracy:86.36067509651184%\n",
            "Training Loss:0.49800086639962104\n",
            "Validation Loss:0.40858986725409824\n"
          ]
        },
        {
          "output_type": "stream",
          "name": "stderr",
          "text": [
            "\r 70%|███████   | 21/30 [03:54<01:39, 11.08s/it]"
          ]
        },
        {
          "output_type": "stream",
          "name": "stdout",
          "text": [
            "Epoch: 20\n",
            "Validation Accuracy:85.69619059562683%\n",
            "Training Loss:0.4981494371621114\n",
            "Validation Loss:0.4234787697593371\n"
          ]
        },
        {
          "output_type": "stream",
          "name": "stderr",
          "text": [
            "\r 73%|███████▎  | 22/30 [04:05<01:29, 11.14s/it]"
          ]
        },
        {
          "output_type": "stream",
          "name": "stdout",
          "text": [
            "Epoch: 21\n",
            "Validation Accuracy:84.92059707641602%\n",
            "Training Loss:0.5041943676066849\n",
            "Validation Loss:0.41707970947027206\n"
          ]
        },
        {
          "output_type": "stream",
          "name": "stderr",
          "text": [
            "\r 77%|███████▋  | 23/30 [04:16<01:16, 10.95s/it]"
          ]
        },
        {
          "output_type": "stream",
          "name": "stdout",
          "text": [
            "Epoch: 22\n",
            "Validation Accuracy:85.50937175750732%\n",
            "Training Loss:0.5070428187554737\n",
            "Validation Loss:0.41715522358814877\n"
          ]
        },
        {
          "output_type": "stream",
          "name": "stderr",
          "text": [
            "\r 80%|████████  | 24/30 [04:27<01:05, 10.94s/it]"
          ]
        },
        {
          "output_type": "stream",
          "name": "stdout",
          "text": [
            "Epoch: 23\n",
            "Validation Accuracy:86.04860305786133%\n",
            "Training Loss:0.49053057803297945\n",
            "Validation Loss:0.4190012315909068\n"
          ]
        },
        {
          "output_type": "stream",
          "name": "stderr",
          "text": [
            "\r 83%|████████▎ | 25/30 [04:38<00:55, 11.06s/it]"
          ]
        },
        {
          "output_type": "stream",
          "name": "stdout",
          "text": [
            "Epoch: 24\n",
            "Validation Accuracy:85.3154718875885%\n",
            "Training Loss:0.5034347660136673\n",
            "Validation Loss:0.42685145139694214\n"
          ]
        },
        {
          "output_type": "stream",
          "name": "stderr",
          "text": [
            "\r 87%|████████▋ | 26/30 [04:49<00:44, 11.09s/it]"
          ]
        },
        {
          "output_type": "stream",
          "name": "stdout",
          "text": [
            "Epoch: 25\n",
            "Validation Accuracy:85.18526554107666%\n",
            "Training Loss:0.4933386563130145\n",
            "Validation Loss:0.4457884356379509\n"
          ]
        },
        {
          "output_type": "stream",
          "name": "stderr",
          "text": [
            "\r 90%|█████████ | 27/30 [05:00<00:33, 11.14s/it]"
          ]
        },
        {
          "output_type": "stream",
          "name": "stdout",
          "text": [
            "Epoch: 26\n",
            "Validation Accuracy:85.33387184143066%\n",
            "Training Loss:0.49603158685396304\n",
            "Validation Loss:0.4254635274410248\n"
          ]
        },
        {
          "output_type": "stream",
          "name": "stderr",
          "text": [
            "\r 93%|█████████▎| 28/30 [05:12<00:22, 11.18s/it]"
          ]
        },
        {
          "output_type": "stream",
          "name": "stdout",
          "text": [
            "Epoch: 27\n",
            "Validation Accuracy:85.15059351921082%\n",
            "Training Loss:0.5031676053438546\n",
            "Validation Loss:0.43228699018557865\n"
          ]
        },
        {
          "output_type": "stream",
          "name": "stderr",
          "text": [
            "\r 97%|█████████▋| 29/30 [05:23<00:11, 11.13s/it]"
          ]
        },
        {
          "output_type": "stream",
          "name": "stdout",
          "text": [
            "Epoch: 28\n",
            "Validation Accuracy:85.70256233215332%\n",
            "Training Loss:0.49642654297486793\n",
            "Validation Loss:0.41957032432158786\n"
          ]
        },
        {
          "output_type": "stream",
          "name": "stderr",
          "text": [
            "100%|██████████| 30/30 [05:34<00:00, 11.16s/it]"
          ]
        },
        {
          "output_type": "stream",
          "name": "stdout",
          "text": [
            "Epoch: 29\n",
            "Validation Accuracy:85.79384684562683%\n",
            "Training Loss:0.5064489341007089\n",
            "Validation Loss:0.4289075161019961\n"
          ]
        },
        {
          "output_type": "stream",
          "name": "stderr",
          "text": [
            "\n"
          ]
        },
        {
          "output_type": "stream",
          "name": "stdout",
          "text": [
            "Test Accuracy:84.48241949081421%\n"
          ]
        },
        {
          "output_type": "display_data",
          "data": {
            "text/plain": [
              "<Figure size 1000x500 with 2 Axes>"
            ],
            "image/png": "[encoded data removed]"
          },
          "metadata": {}
        },
        {
          "output_type": "display_data",
          "data": {
            "text/plain": [
              "<Figure size 1000x500 with 2 Axes>"
            ],
            "image/png": "[encoded data removed]"
          },
          "metadata": {}
        },
        {
          "output_type": "display_data",
          "data": {
            "text/plain": [
              "<Figure size 1000x500 with 2 Axes>"
            ],
            "image/png": "[encoded data removed]"
          },
          "metadata": {}
        }
      ]
    },
    {
      "cell_type": "code",
      "source": [
        "print(saved_states_rms_dropout_15)\n",
        "print(saved_states_rms_dropout_25)\n",
        "print(saved_states_rms_dropout_33)"
      ],
      "metadata": {
        "colab": {
          "base_uri": "https://localhost:8080/"
        },
        "id": "Pq3s8oNqwbW7",
        "outputId": "f6cf58c1-1fff-4dd5-975a-6f54a7d4cd6e"
      },
      "execution_count": 79,
      "outputs": [
        {
          "output_type": "stream",
          "name": "stdout",
          "text": [
            "{'train_loss': 0.37290313474412234, 'val_loss': 0.38334863384564716, 'val_acc': tensor(0.8751)}\n",
            "{'train_loss': 0.43848795935792745, 'val_loss': 0.3983582655588786, 'val_acc': tensor(0.8627)}\n",
            "{'train_loss': 0.49053057803297945, 'val_loss': 0.40858986725409824, 'val_acc': tensor(0.8636)}\n"
          ]
        }
      ]
    },
    {
      "cell_type": "markdown",
      "source": [
        "# **Weight Initialization Comparison**"
      ],
      "metadata": {
        "id": "ZcWdXP0-u6sG"
      }
    },
    {
      "cell_type": "code",
      "source": [
        "saved_states_weight_xavier = parameter_tunning(neuron_dim_optimal, epochs, train_batches, val_batches, test_batches, 0, 'xavier', False, 'rms', 0.001)\n",
        "saved_states_weight_random = parameter_tunning(neuron_dim_optimal, epochs, train_batches, val_batches, test_batches, 0, 'random', False, 'rms', 0.001)\n",
        "saved_states_weight_kaiming = parameter_tunning(neuron_dim_optimal, epochs, train_batches, val_batches, test_batches, 0, 'kaiming', False, 'rms', 0.001)"
      ],
      "metadata": {
        "colab": {
          "base_uri": "https://localhost:8080/",
          "height": 1000
        },
        "id": "_Zz_g5PhMay0",
        "outputId": "e5f0d201-2959-4e47-c482-31f235d58e1e"
      },
      "execution_count": 78,
      "outputs": [
        {
          "output_type": "stream",
          "name": "stderr",
          "text": [
            "  3%|▎         | 1/30 [00:10<05:09, 10.66s/it]"
          ]
        },
        {
          "output_type": "stream",
          "name": "stdout",
          "text": [
            "Epoch: 0\n",
            "Validation Accuracy:80.20408749580383%\n",
            "Training Loss:0.773580826116058\n",
            "Validation Loss:0.5660445938507715\n"
          ]
        },
        {
          "output_type": "stream",
          "name": "stderr",
          "text": [
            "\r  7%|▋         | 2/30 [00:21<05:01, 10.78s/it]"
          ]
        },
        {
          "output_type": "stream",
          "name": "stdout",
          "text": [
            "Epoch: 1\n",
            "Validation Accuracy:83.02409052848816%\n",
            "Training Loss:0.49059641305005774\n",
            "Validation Loss:0.46921451141436893\n"
          ]
        },
        {
          "output_type": "stream",
          "name": "stderr",
          "text": [
            "\r 10%|█         | 3/30 [00:32<04:51, 10.78s/it]"
          ]
        },
        {
          "output_type": "stream",
          "name": "stdout",
          "text": [
            "Epoch: 2\n",
            "Validation Accuracy:84.41462516784668%\n",
            "Training Loss:0.42594561290066196\n",
            "Validation Loss:0.4475048507253329\n"
          ]
        },
        {
          "output_type": "stream",
          "name": "stderr",
          "text": [
            "\r 13%|█▎        | 4/30 [00:43<04:43, 10.90s/it]"
          ]
        },
        {
          "output_type": "stream",
          "name": "stdout",
          "text": [
            "Epoch: 3\n",
            "Validation Accuracy:83.44655632972717%\n",
            "Training Loss:0.40136515700592185\n",
            "Validation Loss:0.4641333371400833\n"
          ]
        },
        {
          "output_type": "stream",
          "name": "stderr",
          "text": [
            "\r 17%|█▋        | 5/30 [00:54<04:34, 10.99s/it]"
          ]
        },
        {
          "output_type": "stream",
          "name": "stdout",
          "text": [
            "Epoch: 4\n",
            "Validation Accuracy:84.4875156879425%\n",
            "Training Loss:0.39476779047048316\n",
            "Validation Loss:0.42478838562965393\n"
          ]
        },
        {
          "output_type": "stream",
          "name": "stderr",
          "text": [
            "\r 20%|██        | 6/30 [01:05<04:24, 11.01s/it]"
          ]
        },
        {
          "output_type": "stream",
          "name": "stdout",
          "text": [
            "Epoch: 5\n",
            "Validation Accuracy:86.21206879615784%\n",
            "Training Loss:0.37201149452407406\n",
            "Validation Loss:0.38882868488629657\n"
          ]
        },
        {
          "output_type": "stream",
          "name": "stderr",
          "text": [
            "\r 23%|██▎       | 7/30 [01:17<04:18, 11.24s/it]"
          ]
        },
        {
          "output_type": "stream",
          "name": "stdout",
          "text": [
            "Epoch: 6\n",
            "Validation Accuracy:85.85329055786133%\n",
            "Training Loss:0.3537695405055892\n",
            "Validation Loss:0.402995561559995\n"
          ]
        },
        {
          "output_type": "stream",
          "name": "stderr",
          "text": [
            "\r 27%|██▋       | 8/30 [01:28<04:05, 11.14s/it]"
          ]
        },
        {
          "output_type": "stream",
          "name": "stdout",
          "text": [
            "Epoch: 7\n",
            "Validation Accuracy:85.35721898078918%\n",
            "Training Loss:0.3498134857641076\n",
            "Validation Loss:0.4279489542047183\n"
          ]
        },
        {
          "output_type": "stream",
          "name": "stderr",
          "text": [
            "\r 30%|███       | 9/30 [01:39<03:52, 11.06s/it]"
          ]
        },
        {
          "output_type": "stream",
          "name": "stdout",
          "text": [
            "Epoch: 8\n",
            "Validation Accuracy:83.73599052429199%\n",
            "Training Loss:0.3636207813924214\n",
            "Validation Loss:0.45732880632082623\n"
          ]
        },
        {
          "output_type": "stream",
          "name": "stderr",
          "text": [
            "\r 33%|███▎      | 10/30 [01:49<03:39, 10.99s/it]"
          ]
        },
        {
          "output_type": "stream",
          "name": "stdout",
          "text": [
            "Epoch: 9\n",
            "Validation Accuracy:86.29345297813416%\n",
            "Training Loss:0.34878310603353213\n",
            "Validation Loss:0.3941892584164937\n"
          ]
        },
        {
          "output_type": "stream",
          "name": "stderr",
          "text": [
            "\r 37%|███▋      | 11/30 [02:01<03:30, 11.06s/it]"
          ]
        },
        {
          "output_type": "stream",
          "name": "stdout",
          "text": [
            "Epoch: 10\n",
            "Validation Accuracy:86.00330948829651%\n",
            "Training Loss:0.32827123943364844\n",
            "Validation Loss:0.39216595391432446\n"
          ]
        },
        {
          "output_type": "stream",
          "name": "stderr",
          "text": [
            "\r 40%|████      | 12/30 [02:12<03:19, 11.10s/it]"
          ]
        },
        {
          "output_type": "stream",
          "name": "stdout",
          "text": [
            "Epoch: 11\n",
            "Validation Accuracy:86.30619049072266%\n",
            "Training Loss:0.3284956711643147\n",
            "Validation Loss:0.3798790400226911\n"
          ]
        },
        {
          "output_type": "stream",
          "name": "stderr",
          "text": [
            "\r 43%|████▎     | 13/30 [02:23<03:07, 11.05s/it]"
          ]
        },
        {
          "output_type": "stream",
          "name": "stdout",
          "text": [
            "Epoch: 12\n",
            "Validation Accuracy:86.48593425750732%\n",
            "Training Loss:0.3141268685741245\n",
            "Validation Loss:0.4092877854903539\n"
          ]
        },
        {
          "output_type": "stream",
          "name": "stderr",
          "text": [
            "\r 47%|████▋     | 14/30 [02:34<02:57, 11.08s/it]"
          ]
        },
        {
          "output_type": "stream",
          "name": "stdout",
          "text": [
            "Epoch: 13\n",
            "Validation Accuracy:86.69326901435852%\n",
            "Training Loss:0.31400049534046426\n",
            "Validation Loss:0.38870246708393097\n"
          ]
        },
        {
          "output_type": "stream",
          "name": "stderr",
          "text": [
            "\r 50%|█████     | 15/30 [02:45<02:44, 10.98s/it]"
          ]
        },
        {
          "output_type": "stream",
          "name": "stdout",
          "text": [
            "Epoch: 14\n",
            "Validation Accuracy:87.04073429107666%\n",
            "Training Loss:0.30447269343542605\n",
            "Validation Loss:0.3919106150666873\n"
          ]
        },
        {
          "output_type": "stream",
          "name": "stderr",
          "text": [
            "\r 53%|█████▎    | 16/30 [02:55<02:31, 10.80s/it]"
          ]
        },
        {
          "output_type": "stream",
          "name": "stdout",
          "text": [
            "Epoch: 15\n",
            "Validation Accuracy:86.65576577186584%\n",
            "Training Loss:0.30728758014035673\n",
            "Validation Loss:0.3941185201207797\n"
          ]
        },
        {
          "output_type": "stream",
          "name": "stderr",
          "text": [
            "\r 57%|█████▋    | 17/30 [03:06<02:21, 10.88s/it]"
          ]
        },
        {
          "output_type": "stream",
          "name": "stdout",
          "text": [
            "Epoch: 16\n",
            "Validation Accuracy:86.54041886329651%\n",
            "Training Loss:0.30087082692474687\n",
            "Validation Loss:0.3945278525352478\n"
          ]
        },
        {
          "output_type": "stream",
          "name": "stderr",
          "text": [
            "\r 60%|██████    | 18/30 [03:17<02:11, 10.96s/it]"
          ]
        },
        {
          "output_type": "stream",
          "name": "stdout",
          "text": [
            "Epoch: 17\n",
            "Validation Accuracy:86.47602200508118%\n",
            "Training Loss:0.29753165087609923\n",
            "Validation Loss:0.424067643781503\n"
          ]
        },
        {
          "output_type": "stream",
          "name": "stderr",
          "text": [
            "\r 63%|██████▎   | 19/30 [03:29<02:02, 11.15s/it]"
          ]
        },
        {
          "output_type": "stream",
          "name": "stdout",
          "text": [
            "Epoch: 18\n",
            "Validation Accuracy:87.02375292778015%\n",
            "Training Loss:0.29469004976299573\n",
            "Validation Loss:0.388290969034036\n"
          ]
        },
        {
          "output_type": "stream",
          "name": "stderr",
          "text": [
            "\r 67%|██████▋   | 20/30 [03:40<01:51, 11.13s/it]"
          ]
        },
        {
          "output_type": "stream",
          "name": "stdout",
          "text": [
            "Epoch: 19\n",
            "Validation Accuracy:85.72803139686584%\n",
            "Training Loss:0.2835772792404553\n",
            "Validation Loss:0.42998890827099484\n"
          ]
        },
        {
          "output_type": "stream",
          "name": "stderr",
          "text": [
            "\r 70%|███████   | 21/30 [03:51<01:38, 10.95s/it]"
          ]
        },
        {
          "output_type": "stream",
          "name": "stdout",
          "text": [
            "Epoch: 20\n",
            "Validation Accuracy:86.64090633392334%\n",
            "Training Loss:0.29538417495084257\n",
            "Validation Loss:0.4035528252522151\n"
          ]
        },
        {
          "output_type": "stream",
          "name": "stderr",
          "text": [
            "\r 73%|███████▎  | 22/30 [04:02<01:27, 10.98s/it]"
          ]
        },
        {
          "output_type": "stream",
          "name": "stdout",
          "text": [
            "Epoch: 21\n",
            "Validation Accuracy:86.7803156375885%\n",
            "Training Loss:0.2763978677257052\n",
            "Validation Loss:0.4435038094719251\n"
          ]
        },
        {
          "output_type": "stream",
          "name": "stderr",
          "text": [
            "\r 77%|███████▋  | 23/30 [04:12<01:16, 10.90s/it]"
          ]
        },
        {
          "output_type": "stream",
          "name": "stdout",
          "text": [
            "Epoch: 22\n",
            "Validation Accuracy:87.01737523078918%\n",
            "Training Loss:0.27924643752147565\n",
            "Validation Loss:0.4157777155439059\n"
          ]
        },
        {
          "output_type": "stream",
          "name": "stderr",
          "text": [
            "\r 80%|████████  | 24/30 [04:23<01:05, 10.84s/it]"
          ]
        },
        {
          "output_type": "stream",
          "name": "stdout",
          "text": [
            "Epoch: 23\n",
            "Validation Accuracy:86.89495921134949%\n",
            "Training Loss:0.2782836275280647\n",
            "Validation Loss:0.4144299402832985\n"
          ]
        },
        {
          "output_type": "stream",
          "name": "stderr",
          "text": [
            "\r 83%|████████▎ | 25/30 [04:34<00:55, 11.02s/it]"
          ]
        },
        {
          "output_type": "stream",
          "name": "stdout",
          "text": [
            "Epoch: 24\n",
            "Validation Accuracy:86.49088740348816%\n",
            "Training Loss:0.2856032908806261\n",
            "Validation Loss:0.43293219804763794\n"
          ]
        },
        {
          "output_type": "stream",
          "name": "stderr",
          "text": [
            "\r 87%|████████▋ | 26/30 [04:45<00:43, 11.00s/it]"
          ]
        },
        {
          "output_type": "stream",
          "name": "stdout",
          "text": [
            "Epoch: 25\n",
            "Validation Accuracy:87.27567195892334%\n",
            "Training Loss:0.28393068417625605\n",
            "Validation Loss:0.40337402870257694\n"
          ]
        },
        {
          "output_type": "stream",
          "name": "stderr",
          "text": [
            "\r 90%|█████████ | 27/30 [04:57<00:33, 11.05s/it]"
          ]
        },
        {
          "output_type": "stream",
          "name": "stdout",
          "text": [
            "Epoch: 26\n",
            "Validation Accuracy:87.01242804527283%\n",
            "Training Loss:0.27603752348782884\n",
            "Validation Loss:0.41806818544864655\n"
          ]
        },
        {
          "output_type": "stream",
          "name": "stderr",
          "text": [
            "\r 93%|█████████▎| 28/30 [05:07<00:21, 10.96s/it]"
          ]
        },
        {
          "output_type": "stream",
          "name": "stdout",
          "text": [
            "Epoch: 27\n",
            "Validation Accuracy:86.64090633392334%\n",
            "Training Loss:0.28109936317745243\n",
            "Validation Loss:0.43310301502545673\n"
          ]
        },
        {
          "output_type": "stream",
          "name": "stderr",
          "text": [
            "\r 97%|█████████▋| 29/30 [05:18<00:10, 10.88s/it]"
          ]
        },
        {
          "output_type": "stream",
          "name": "stdout",
          "text": [
            "Epoch: 28\n",
            "Validation Accuracy:87.35634684562683%\n",
            "Training Loss:0.2678006514906883\n",
            "Validation Loss:0.4241279885172844\n"
          ]
        },
        {
          "output_type": "stream",
          "name": "stderr",
          "text": [
            "100%|██████████| 30/30 [05:29<00:00, 10.98s/it]"
          ]
        },
        {
          "output_type": "stream",
          "name": "stdout",
          "text": [
            "Epoch: 29\n",
            "Validation Accuracy:87.1221125125885%\n",
            "Training Loss:0.2648796929784541\n",
            "Validation Loss:0.42509883642196655\n"
          ]
        },
        {
          "output_type": "stream",
          "name": "stderr",
          "text": [
            "\n"
          ]
        },
        {
          "output_type": "stream",
          "name": "stdout",
          "text": [
            "Test Accuracy:86.083984375%\n"
          ]
        },
        {
          "output_type": "stream",
          "name": "stderr",
          "text": [
            "  3%|▎         | 1/30 [00:10<05:11, 10.74s/it]"
          ]
        },
        {
          "output_type": "stream",
          "name": "stdout",
          "text": [
            "Epoch: 0\n",
            "Validation Accuracy:72.79849052429199%\n",
            "Training Loss:176.37699263950563\n",
            "Validation Loss:56.41424687703451\n"
          ]
        },
        {
          "output_type": "stream",
          "name": "stderr",
          "text": [
            "\r  7%|▋         | 2/30 [00:21<04:59, 10.71s/it]"
          ]
        },
        {
          "output_type": "stream",
          "name": "stdout",
          "text": [
            "Epoch: 1\n",
            "Validation Accuracy:72.82113432884216%\n",
            "Training Loss:45.35520395242943\n",
            "Validation Loss:35.26074250539144\n"
          ]
        },
        {
          "output_type": "stream",
          "name": "stderr",
          "text": [
            "\r 10%|█         | 3/30 [00:32<04:56, 10.98s/it]"
          ]
        },
        {
          "output_type": "stream",
          "name": "stdout",
          "text": [
            "Epoch: 2\n",
            "Validation Accuracy:71.76036238670349%\n",
            "Training Loss:27.06604290008545\n",
            "Validation Loss:23.937310536702473\n"
          ]
        },
        {
          "output_type": "stream",
          "name": "stderr",
          "text": [
            "\r 13%|█▎        | 4/30 [00:44<04:50, 11.19s/it]"
          ]
        },
        {
          "output_type": "stream",
          "name": "stdout",
          "text": [
            "Epoch: 3\n",
            "Validation Accuracy:73.20043444633484%\n",
            "Training Loss:18.286282143502866\n",
            "Validation Loss:17.968753576278687\n"
          ]
        },
        {
          "output_type": "stream",
          "name": "stderr",
          "text": [
            "\r 17%|█▋        | 5/30 [00:54<04:35, 11.00s/it]"
          ]
        },
        {
          "output_type": "stream",
          "name": "stdout",
          "text": [
            "Epoch: 4\n",
            "Validation Accuracy:69.90984082221985%\n",
            "Training Loss:12.615368870069396\n",
            "Validation Loss:13.597020785013834\n"
          ]
        },
        {
          "output_type": "stream",
          "name": "stderr",
          "text": [
            "\r 20%|██        | 6/30 [01:06<04:25, 11.07s/it]"
          ]
        },
        {
          "output_type": "stream",
          "name": "stdout",
          "text": [
            "Epoch: 5\n",
            "Validation Accuracy:74.01564717292786%\n",
            "Training Loss:9.469551032444215\n",
            "Validation Loss:11.445731123288473\n"
          ]
        },
        {
          "output_type": "stream",
          "name": "stderr",
          "text": [
            "\r 23%|██▎       | 7/30 [01:16<04:12, 10.99s/it]"
          ]
        },
        {
          "output_type": "stream",
          "name": "stdout",
          "text": [
            "Epoch: 6\n",
            "Validation Accuracy:68.93327832221985%\n",
            "Training Loss:7.723882787632492\n",
            "Validation Loss:10.100882172584534\n"
          ]
        },
        {
          "output_type": "stream",
          "name": "stderr",
          "text": [
            "\r 27%|██▋       | 8/30 [01:28<04:05, 11.15s/it]"
          ]
        },
        {
          "output_type": "stream",
          "name": "stdout",
          "text": [
            "Epoch: 7\n",
            "Validation Accuracy:70.99468111991882%\n",
            "Training Loss:5.894210702968094\n",
            "Validation Loss:7.111688733100891\n"
          ]
        },
        {
          "output_type": "stream",
          "name": "stderr",
          "text": [
            "\r 30%|███       | 9/30 [01:39<03:54, 11.17s/it]"
          ]
        },
        {
          "output_type": "stream",
          "name": "stdout",
          "text": [
            "Epoch: 8\n",
            "Validation Accuracy:67.722487449646%\n",
            "Training Loss:4.8775180735678045\n",
            "Validation Loss:6.543331265449524\n"
          ]
        },
        {
          "output_type": "stream",
          "name": "stderr",
          "text": [
            "\r 33%|███▎      | 10/30 [01:50<03:41, 11.09s/it]"
          ]
        },
        {
          "output_type": "stream",
          "name": "stdout",
          "text": [
            "Epoch: 9\n",
            "Validation Accuracy:66.0793125629425%\n",
            "Training Loss:3.56245737030821\n",
            "Validation Loss:4.814098497231801\n"
          ]
        },
        {
          "output_type": "stream",
          "name": "stderr",
          "text": [
            "\r 37%|███▋      | 11/30 [02:01<03:30, 11.08s/it]"
          ]
        },
        {
          "output_type": "stream",
          "name": "stdout",
          "text": [
            "Epoch: 10\n",
            "Validation Accuracy:67.56821274757385%\n",
            "Training Loss:2.8417051457009226\n",
            "Validation Loss:4.0922819177309675\n"
          ]
        },
        {
          "output_type": "stream",
          "name": "stderr",
          "text": [
            "\r 40%|████      | 12/30 [02:12<03:20, 11.14s/it]"
          ]
        },
        {
          "output_type": "stream",
          "name": "stdout",
          "text": [
            "Epoch: 11\n",
            "Validation Accuracy:58.52935314178467%\n",
            "Training Loss:2.2237193280795835\n",
            "Validation Loss:3.4560122589270272\n"
          ]
        },
        {
          "output_type": "stream",
          "name": "stderr",
          "text": [
            "\r 43%|████▎     | 13/30 [02:23<03:07, 11.06s/it]"
          ]
        },
        {
          "output_type": "stream",
          "name": "stdout",
          "text": [
            "Epoch: 12\n",
            "Validation Accuracy:60.99340319633484%\n",
            "Training Loss:1.7848081493152763\n",
            "Validation Loss:2.8857096234957376\n"
          ]
        },
        {
          "output_type": "stream",
          "name": "stderr",
          "text": [
            "\r 47%|████▋     | 14/30 [02:34<02:56, 11.05s/it]"
          ]
        },
        {
          "output_type": "stream",
          "name": "stdout",
          "text": [
            "Epoch: 13\n",
            "Validation Accuracy:64.56281542778015%\n",
            "Training Loss:1.5587108258931142\n",
            "Validation Loss:2.518421014149984\n"
          ]
        },
        {
          "output_type": "stream",
          "name": "stderr",
          "text": [
            "\r 50%|█████     | 15/30 [02:45<02:45, 11.00s/it]"
          ]
        },
        {
          "output_type": "stream",
          "name": "stdout",
          "text": [
            "Epoch: 14\n",
            "Validation Accuracy:67.820143699646%\n",
            "Training Loss:1.3621303202970974\n",
            "Validation Loss:2.078259905179342\n"
          ]
        },
        {
          "output_type": "stream",
          "name": "stderr",
          "text": [
            "\r 53%|█████▎    | 16/30 [02:56<02:35, 11.09s/it]"
          ]
        },
        {
          "output_type": "stream",
          "name": "stdout",
          "text": [
            "Epoch: 15\n",
            "Validation Accuracy:67.41748452186584%\n",
            "Training Loss:1.1477963856931002\n",
            "Validation Loss:2.309112081925074\n"
          ]
        },
        {
          "output_type": "stream",
          "name": "stderr",
          "text": [
            "\r 57%|█████▋    | 17/30 [03:08<02:24, 11.09s/it]"
          ]
        },
        {
          "output_type": "stream",
          "name": "stdout",
          "text": [
            "Epoch: 16\n",
            "Validation Accuracy:65.03481864929199%\n",
            "Training Loss:1.2280502190005105\n",
            "Validation Loss:2.525228261947632\n"
          ]
        },
        {
          "output_type": "stream",
          "name": "stderr",
          "text": [
            "\r 60%|██████    | 18/30 [03:18<02:12, 11.01s/it]"
          ]
        },
        {
          "output_type": "stream",
          "name": "stdout",
          "text": [
            "Epoch: 17\n",
            "Validation Accuracy:62.1454656124115%\n",
            "Training Loss:1.169473185854138\n",
            "Validation Loss:2.0855183601379395\n"
          ]
        },
        {
          "output_type": "stream",
          "name": "stderr",
          "text": [
            "\r 63%|██████▎   | 19/30 [03:30<02:01, 11.05s/it]"
          ]
        },
        {
          "output_type": "stream",
          "name": "stdout",
          "text": [
            "Epoch: 18\n",
            "Validation Accuracy:61.765456199645996%\n",
            "Training Loss:1.3559741816430722\n",
            "Validation Loss:2.5464018980662027\n"
          ]
        },
        {
          "output_type": "stream",
          "name": "stderr",
          "text": [
            "\r 67%|██████▋   | 20/30 [03:41<01:50, 11.08s/it]"
          ]
        },
        {
          "output_type": "stream",
          "name": "stdout",
          "text": [
            "Epoch: 19\n",
            "Validation Accuracy:65.14096260070801%\n",
            "Training Loss:1.158027654548861\n",
            "Validation Loss:2.2862118979295096\n"
          ]
        },
        {
          "output_type": "stream",
          "name": "stderr",
          "text": [
            "\r 70%|███████   | 21/30 [03:52<01:39, 11.05s/it]"
          ]
        },
        {
          "output_type": "stream",
          "name": "stdout",
          "text": [
            "Epoch: 20\n",
            "Validation Accuracy:64.673912525177%\n",
            "Training Loss:1.0671619036287632\n",
            "Validation Loss:1.9781247129042943\n"
          ]
        },
        {
          "output_type": "stream",
          "name": "stderr",
          "text": [
            "\r 73%|███████▎  | 22/30 [04:03<01:28, 11.08s/it]"
          ]
        },
        {
          "output_type": "stream",
          "name": "stdout",
          "text": [
            "Epoch: 21\n",
            "Validation Accuracy:68.77618432044983%\n",
            "Training Loss:0.9402960235217832\n",
            "Validation Loss:2.1136199633280435\n"
          ]
        },
        {
          "output_type": "stream",
          "name": "stderr",
          "text": [
            "\r 77%|███████▋  | 23/30 [04:14<01:18, 11.18s/it]"
          ]
        },
        {
          "output_type": "stream",
          "name": "stdout",
          "text": [
            "Epoch: 22\n",
            "Validation Accuracy:62.729984521865845%\n",
            "Training Loss:0.9694513982197024\n",
            "Validation Loss:2.158653904994329\n"
          ]
        },
        {
          "output_type": "stream",
          "name": "stderr",
          "text": [
            "\r 80%|████████  | 24/30 [04:25<01:06, 11.14s/it]"
          ]
        },
        {
          "output_type": "stream",
          "name": "stdout",
          "text": [
            "Epoch: 23\n",
            "Validation Accuracy:61.687612533569336%\n",
            "Training Loss:1.0430762458522365\n",
            "Validation Loss:2.073729654153188\n"
          ]
        },
        {
          "output_type": "stream",
          "name": "stderr",
          "text": [
            "\r 83%|████████▎ | 25/30 [04:36<00:55, 11.15s/it]"
          ]
        },
        {
          "output_type": "stream",
          "name": "stdout",
          "text": [
            "Epoch: 24\n",
            "Validation Accuracy:63.644278049468994%\n",
            "Training Loss:1.0038455381708324\n",
            "Validation Loss:1.8571885426839192\n"
          ]
        },
        {
          "output_type": "stream",
          "name": "stderr",
          "text": [
            "\r 87%|████████▋ | 26/30 [04:48<00:44, 11.19s/it]"
          ]
        },
        {
          "output_type": "stream",
          "name": "stdout",
          "text": [
            "Epoch: 25\n",
            "Validation Accuracy:66.17626547813416%\n",
            "Training Loss:1.002270038960115\n",
            "Validation Loss:1.7273957033952076\n"
          ]
        },
        {
          "output_type": "stream",
          "name": "stderr",
          "text": [
            "\r 90%|█████████ | 27/30 [04:59<00:33, 11.21s/it]"
          ]
        },
        {
          "output_type": "stream",
          "name": "stdout",
          "text": [
            "Epoch: 26\n",
            "Validation Accuracy:67.09479689598083%\n",
            "Training Loss:0.9373520815147544\n",
            "Validation Loss:1.5727744102478027\n"
          ]
        },
        {
          "output_type": "stream",
          "name": "stderr",
          "text": [
            "\r 93%|█████████▎| 28/30 [05:10<00:22, 11.14s/it]"
          ]
        },
        {
          "output_type": "stream",
          "name": "stdout",
          "text": [
            "Epoch: 27\n",
            "Validation Accuracy:64.357590675354%\n",
            "Training Loss:0.9077498069349325\n",
            "Validation Loss:1.6009840418895085\n"
          ]
        },
        {
          "output_type": "stream",
          "name": "stderr",
          "text": [
            "\r 97%|█████████▋| 29/30 [05:21<00:10, 11.00s/it]"
          ]
        },
        {
          "output_type": "stream",
          "name": "stdout",
          "text": [
            "Epoch: 28\n",
            "Validation Accuracy:69.1300094127655%\n",
            "Training Loss:0.8694036552366221\n",
            "Validation Loss:1.6615270127852757\n"
          ]
        },
        {
          "output_type": "stream",
          "name": "stderr",
          "text": [
            "100%|██████████| 30/30 [05:31<00:00, 11.06s/it]"
          ]
        },
        {
          "output_type": "stream",
          "name": "stdout",
          "text": [
            "Epoch: 29\n",
            "Validation Accuracy:69.46189999580383%\n",
            "Training Loss:0.9071020950686257\n",
            "Validation Loss:1.662910595536232\n"
          ]
        },
        {
          "output_type": "stream",
          "name": "stderr",
          "text": [
            "\n"
          ]
        },
        {
          "output_type": "stream",
          "name": "stdout",
          "text": [
            "Test Accuracy:68.75976324081421%\n"
          ]
        },
        {
          "output_type": "stream",
          "name": "stderr",
          "text": [
            "  3%|▎         | 1/30 [00:11<05:22, 11.11s/it]"
          ]
        },
        {
          "output_type": "stream",
          "name": "stdout",
          "text": [
            "Epoch: 0\n",
            "Validation Accuracy:80.6513249874115%\n",
            "Training Loss:0.9267601770050121\n",
            "Validation Loss:0.5989623914162318\n"
          ]
        },
        {
          "output_type": "stream",
          "name": "stderr",
          "text": [
            "\r  7%|▋         | 2/30 [00:22<05:09, 11.06s/it]"
          ]
        },
        {
          "output_type": "stream",
          "name": "stdout",
          "text": [
            "Epoch: 1\n",
            "Validation Accuracy:82.44735598564148%\n",
            "Training Loss:0.5292023673372449\n",
            "Validation Loss:0.49287810921669006\n"
          ]
        },
        {
          "output_type": "stream",
          "name": "stderr",
          "text": [
            "\r 10%|█         | 3/30 [00:33<05:02, 11.22s/it]"
          ]
        },
        {
          "output_type": "stream",
          "name": "stdout",
          "text": [
            "Epoch: 2\n",
            "Validation Accuracy:83.53784680366516%\n",
            "Training Loss:0.46442331092537575\n",
            "Validation Loss:0.4756993701060613\n"
          ]
        },
        {
          "output_type": "stream",
          "name": "stderr",
          "text": [
            "\r 13%|█▎        | 4/30 [00:44<04:46, 11.03s/it]"
          ]
        },
        {
          "output_type": "stream",
          "name": "stdout",
          "text": [
            "Epoch: 3\n",
            "Validation Accuracy:84.63612198829651%\n",
            "Training Loss:0.4213103694173525\n",
            "Validation Loss:0.4436093245943387\n"
          ]
        },
        {
          "output_type": "stream",
          "name": "stderr",
          "text": [
            "\r 17%|█▋        | 5/30 [00:55<04:38, 11.14s/it]"
          ]
        },
        {
          "output_type": "stream",
          "name": "stdout",
          "text": [
            "Epoch: 4\n",
            "Validation Accuracy:85.20578742027283%\n",
            "Training Loss:0.4065218955840705\n",
            "Validation Loss:0.45022132992744446\n"
          ]
        },
        {
          "output_type": "stream",
          "name": "stderr",
          "text": [
            "\r 20%|██        | 6/30 [01:06<04:25, 11.07s/it]"
          ]
        },
        {
          "output_type": "stream",
          "name": "stdout",
          "text": [
            "Epoch: 5\n",
            "Validation Accuracy:83.85982513427734%\n",
            "Training Loss:0.3918853185649188\n",
            "Validation Loss:0.45434806992610294\n"
          ]
        },
        {
          "output_type": "stream",
          "name": "stderr",
          "text": [
            "\r 23%|██▎       | 7/30 [01:17<04:13, 11.03s/it]"
          ]
        },
        {
          "output_type": "stream",
          "name": "stdout",
          "text": [
            "Epoch: 6\n",
            "Validation Accuracy:85.14068126678467%\n",
            "Training Loss:0.3873483974416301\n",
            "Validation Loss:0.4489007443189621\n"
          ]
        },
        {
          "output_type": "stream",
          "name": "stderr",
          "text": [
            "\r 27%|██▋       | 8/30 [01:28<04:01, 10.97s/it]"
          ]
        },
        {
          "output_type": "stream",
          "name": "stdout",
          "text": [
            "Epoch: 7\n",
            "Validation Accuracy:84.861159324646%\n",
            "Training Loss:0.37562291802100417\n",
            "Validation Loss:0.4507451578974724\n"
          ]
        },
        {
          "output_type": "stream",
          "name": "stderr",
          "text": [
            "\r 30%|███       | 9/30 [01:39<03:51, 11.04s/it]"
          ]
        },
        {
          "output_type": "stream",
          "name": "stdout",
          "text": [
            "Epoch: 8\n",
            "Validation Accuracy:85.86460947990417%\n",
            "Training Loss:0.3727036807334648\n",
            "Validation Loss:0.40853940198818844\n"
          ]
        },
        {
          "output_type": "stream",
          "name": "stderr",
          "text": [
            "\r 33%|███▎      | 10/30 [01:50<03:40, 11.02s/it]"
          ]
        },
        {
          "output_type": "stream",
          "name": "stdout",
          "text": [
            "Epoch: 9\n",
            "Validation Accuracy:86.40313744544983%\n",
            "Training Loss:0.3537579617410336\n",
            "Validation Loss:0.41467757523059845\n"
          ]
        },
        {
          "output_type": "stream",
          "name": "stderr",
          "text": [
            "\r 37%|███▋      | 11/30 [02:01<03:29, 11.05s/it]"
          ]
        },
        {
          "output_type": "stream",
          "name": "stdout",
          "text": [
            "Epoch: 10\n",
            "Validation Accuracy:85.87239384651184%\n",
            "Training Loss:0.34288193960234803\n",
            "Validation Loss:0.41958046952883404\n"
          ]
        },
        {
          "output_type": "stream",
          "name": "stderr",
          "text": [
            "\r 40%|████      | 12/30 [02:13<03:20, 11.16s/it]"
          ]
        },
        {
          "output_type": "stream",
          "name": "stdout",
          "text": [
            "Epoch: 11\n",
            "Validation Accuracy:84.73802208900452%\n",
            "Training Loss:0.3498025246948566\n",
            "Validation Loss:0.44787661482890445\n"
          ]
        },
        {
          "output_type": "stream",
          "name": "stderr",
          "text": [
            "\r 43%|████▎     | 13/30 [02:24<03:10, 11.22s/it]"
          ]
        },
        {
          "output_type": "stream",
          "name": "stdout",
          "text": [
            "Epoch: 12\n",
            "Validation Accuracy:85.90636253356934%\n",
            "Training Loss:0.3458320546262669\n",
            "Validation Loss:0.41736003508170444\n"
          ]
        },
        {
          "output_type": "stream",
          "name": "stderr",
          "text": [
            "\r 47%|████▋     | 14/30 [02:35<02:58, 11.15s/it]"
          ]
        },
        {
          "output_type": "stream",
          "name": "stdout",
          "text": [
            "Epoch: 13\n",
            "Validation Accuracy:86.37129664421082%\n",
            "Training Loss:0.33510423437604364\n",
            "Validation Loss:0.4151305283109347\n"
          ]
        },
        {
          "output_type": "stream",
          "name": "stderr",
          "text": [
            "\r 50%|█████     | 15/30 [02:46<02:46, 11.08s/it]"
          ]
        },
        {
          "output_type": "stream",
          "name": "stdout",
          "text": [
            "Epoch: 14\n",
            "Validation Accuracy:86.29274368286133%\n",
            "Training Loss:0.3355555925166832\n",
            "Validation Loss:0.4011858055988948\n"
          ]
        },
        {
          "output_type": "stream",
          "name": "stderr",
          "text": [
            "\r 53%|█████▎    | 16/30 [02:57<02:33, 10.97s/it]"
          ]
        },
        {
          "output_type": "stream",
          "name": "stdout",
          "text": [
            "Epoch: 15\n",
            "Validation Accuracy:85.84620952606201%\n",
            "Training Loss:0.33808776230182286\n",
            "Validation Loss:0.4203564450144768\n"
          ]
        },
        {
          "output_type": "stream",
          "name": "stderr",
          "text": [
            "\r 57%|█████▋    | 17/30 [03:08<02:23, 11.01s/it]"
          ]
        },
        {
          "output_type": "stream",
          "name": "stdout",
          "text": [
            "Epoch: 16\n",
            "Validation Accuracy:85.5617344379425%\n",
            "Training Loss:0.33565139573700026\n",
            "Validation Loss:0.4515034407377243\n"
          ]
        },
        {
          "output_type": "stream",
          "name": "stderr",
          "text": [
            "\r 60%|██████    | 18/30 [03:19<02:12, 11.01s/it]"
          ]
        },
        {
          "output_type": "stream",
          "name": "stdout",
          "text": [
            "Epoch: 17\n",
            "Validation Accuracy:85.17677187919617%\n",
            "Training Loss:0.3243723064661026\n",
            "Validation Loss:0.41262628386418027\n"
          ]
        },
        {
          "output_type": "stream",
          "name": "stderr",
          "text": [
            "\r 63%|██████▎   | 19/30 [03:29<02:00, 10.93s/it]"
          ]
        },
        {
          "output_type": "stream",
          "name": "stdout",
          "text": [
            "Epoch: 18\n",
            "Validation Accuracy:86.24957203865051%\n",
            "Training Loss:0.3135934595791799\n",
            "Validation Loss:0.42130380868911743\n"
          ]
        },
        {
          "output_type": "stream",
          "name": "stderr",
          "text": [
            "\r 67%|██████▋   | 20/30 [03:40<01:49, 10.97s/it]"
          ]
        },
        {
          "output_type": "stream",
          "name": "stdout",
          "text": [
            "Epoch: 19\n",
            "Validation Accuracy:86.40171885490417%\n",
            "Training Loss:0.31507867883961155\n",
            "Validation Loss:0.40662628908952075\n"
          ]
        },
        {
          "output_type": "stream",
          "name": "stderr",
          "text": [
            "\r 70%|███████   | 21/30 [03:52<01:39, 11.05s/it]"
          ]
        },
        {
          "output_type": "stream",
          "name": "stdout",
          "text": [
            "Epoch: 20\n",
            "Validation Accuracy:86.59207820892334%\n",
            "Training Loss:0.31139796072582027\n",
            "Validation Loss:0.42902760207653046\n"
          ]
        },
        {
          "output_type": "stream",
          "name": "stderr",
          "text": [
            "\r 73%|███████▎  | 22/30 [04:03<01:28, 11.07s/it]"
          ]
        },
        {
          "output_type": "stream",
          "name": "stdout",
          "text": [
            "Epoch: 21\n",
            "Validation Accuracy:86.43710613250732%\n",
            "Training Loss:0.315064567439961\n",
            "Validation Loss:0.42075282086928684\n"
          ]
        },
        {
          "output_type": "stream",
          "name": "stderr",
          "text": [
            "\r 77%|███████▋  | 23/30 [04:14<01:17, 11.04s/it]"
          ]
        },
        {
          "output_type": "stream",
          "name": "stdout",
          "text": [
            "Epoch: 22\n",
            "Validation Accuracy:86.40738129615784%\n",
            "Training Loss:0.31650284171666737\n",
            "Validation Loss:0.40239912271499634\n"
          ]
        },
        {
          "output_type": "stream",
          "name": "stderr",
          "text": [
            "\r 80%|████████  | 24/30 [04:25<01:06, 11.04s/it]"
          ]
        },
        {
          "output_type": "stream",
          "name": "stdout",
          "text": [
            "Epoch: 23\n",
            "Validation Accuracy:85.49168109893799%\n",
            "Training Loss:0.3194264411082808\n",
            "Validation Loss:0.45894933740297955\n"
          ]
        },
        {
          "output_type": "stream",
          "name": "stderr",
          "text": [
            "\r 83%|████████▎ | 25/30 [04:36<00:54, 10.95s/it]"
          ]
        },
        {
          "output_type": "stream",
          "name": "stdout",
          "text": [
            "Epoch: 24\n",
            "Validation Accuracy:86.73997521400452%\n",
            "Training Loss:0.3092310466575173\n",
            "Validation Loss:0.43634795397520065\n"
          ]
        },
        {
          "output_type": "stream",
          "name": "stderr",
          "text": [
            "\r 87%|████████▋ | 26/30 [04:46<00:43, 10.95s/it]"
          ]
        },
        {
          "output_type": "stream",
          "name": "stdout",
          "text": [
            "Epoch: 25\n",
            "Validation Accuracy:86.84329986572266%\n",
            "Training Loss:0.297305499888816\n",
            "Validation Loss:0.4176827346285184\n"
          ]
        },
        {
          "output_type": "stream",
          "name": "stderr",
          "text": [
            "\r 90%|█████████ | 27/30 [04:57<00:32, 10.97s/it]"
          ]
        },
        {
          "output_type": "stream",
          "name": "stdout",
          "text": [
            "Epoch: 26\n",
            "Validation Accuracy:85.63108444213867%\n",
            "Training Loss:0.3011565039742668\n",
            "Validation Loss:0.45932498822609585\n"
          ]
        },
        {
          "output_type": "stream",
          "name": "stderr",
          "text": [
            "\r 93%|█████████▎| 28/30 [05:09<00:22, 11.09s/it]"
          ]
        },
        {
          "output_type": "stream",
          "name": "stdout",
          "text": [
            "Epoch: 27\n",
            "Validation Accuracy:86.95652484893799%\n",
            "Training Loss:0.3001658608609775\n",
            "Validation Loss:0.4184402674436569\n"
          ]
        },
        {
          "output_type": "stream",
          "name": "stderr",
          "text": [
            "\r 97%|█████████▋| 29/30 [05:20<00:11, 11.17s/it]"
          ]
        },
        {
          "output_type": "stream",
          "name": "stdout",
          "text": [
            "Epoch: 28\n",
            "Validation Accuracy:86.69893741607666%\n",
            "Training Loss:0.2946744220999052\n",
            "Validation Loss:0.44384241104125977\n"
          ]
        },
        {
          "output_type": "stream",
          "name": "stderr",
          "text": [
            "100%|██████████| 30/30 [05:31<00:00, 11.06s/it]"
          ]
        },
        {
          "output_type": "stream",
          "name": "stdout",
          "text": [
            "Epoch: 29\n",
            "Validation Accuracy:85.83489060401917%\n",
            "Training Loss:0.28571159350422193\n",
            "Validation Loss:0.4649608830610911\n"
          ]
        },
        {
          "output_type": "stream",
          "name": "stderr",
          "text": [
            "\n"
          ]
        },
        {
          "output_type": "stream",
          "name": "stdout",
          "text": [
            "Test Accuracy:85.6249988079071%\n"
          ]
        },
        {
          "output_type": "display_data",
          "data": {
            "text/plain": [
              "<Figure size 1000x500 with 2 Axes>"
            ],
            "image/png": "[encoded data removed]"
          },
          "metadata": {}
        },
        {
          "output_type": "display_data",
          "data": {
            "text/plain": [
              "<Figure size 1000x500 with 2 Axes>"
            ],
            "image/png": "[encoded data removed]"
          },
          "metadata": {}
        },
        {
          "output_type": "display_data",
          "data": {
            "text/plain": [
              "<Figure size 1000x500 with 2 Axes>"
            ],
            "image/png": "[encoded data removed]"
          },
          "metadata": {}
        }
      ]
    },
    {
      "cell_type": "code",
      "source": [
        "print(saved_states_weight_xavier)\n",
        "print(saved_states_weight_random)\n",
        "print(saved_states_weight_kaiming)"
      ],
      "metadata": {
        "colab": {
          "base_uri": "https://localhost:8080/"
        },
        "id": "8Z4QDNRBQMzc",
        "outputId": "213c9898-fb58-4dd3-e238-77cb79267bde"
      },
      "execution_count": 80,
      "outputs": [
        {
          "output_type": "stream",
          "name": "stdout",
          "text": [
            "{'train_loss': 0.2648796929784541, 'val_loss': 0.3798790400226911, 'val_acc': tensor(0.8736)}\n",
            "{'train_loss': 0.8694036552366221, 'val_loss': 1.5727744102478027, 'val_acc': tensor(0.7402)}\n",
            "{'train_loss': 0.28571159350422193, 'val_loss': 0.4011858055988948, 'val_acc': tensor(0.8696)}\n"
          ]
        }
      ]
    },
    {
      "cell_type": "markdown",
      "source": [
        "# **Batch Normalization**"
      ],
      "metadata": {
        "id": "dRROcwlywTj1"
      }
    },
    {
      "cell_type": "code",
      "source": [
        "saved_states_base = parameter_tunning(neuron_dim_base, epochs, train_batches, val_batches, test_batches, 0, 'None', True, 'rms', lr_base)"
      ],
      "metadata": {
        "colab": {
          "base_uri": "https://localhost:8080/"
        },
        "id": "kRSmRBQmjdPl",
        "outputId": "b97a2b7a-a39e-40d7-e86d-5dfa43651a65"
      },
      "execution_count": null,
      "outputs": [
        {
          "output_type": "stream",
          "name": "stderr",
          "text": [
            "  3%|▎         | 1/30 [00:10<05:11, 10.75s/it]"
          ]
        },
        {
          "output_type": "stream",
          "name": "stdout",
          "text": [
            "Epoch: 0\n",
            "Validation Accuracy:83.84992480278015%\n",
            "Training Loss:0.7269569348614171\n",
            "Validation Loss:0.5250363325079282\n"
          ]
        },
        {
          "output_type": "stream",
          "name": "stderr",
          "text": [
            "\r  7%|▋         | 2/30 [00:22<05:13, 11.20s/it]"
          ]
        },
        {
          "output_type": "stream",
          "name": "stdout",
          "text": [
            "Epoch: 1\n",
            "Validation Accuracy:84.8293125629425%\n",
            "Training Loss:0.42733040592580473\n",
            "Validation Loss:0.41959936171770096\n"
          ]
        },
        {
          "output_type": "stream",
          "name": "stderr",
          "text": [
            "\r 10%|█         | 3/30 [00:33<04:57, 11.01s/it]"
          ]
        },
        {
          "output_type": "stream",
          "name": "stdout",
          "text": [
            "Epoch: 2\n",
            "Validation Accuracy:87.01100945472717%\n",
            "Training Loss:0.36670796292008095\n",
            "Validation Loss:0.3666493495305379\n"
          ]
        },
        {
          "output_type": "stream",
          "name": "stderr",
          "text": [
            "\r 13%|█▎        | 4/30 [00:44<04:45, 10.99s/it]"
          ]
        },
        {
          "output_type": "stream",
          "name": "stdout",
          "text": [
            "Epoch: 3\n",
            "Validation Accuracy:87.0987594127655%\n",
            "Training Loss:0.3390137698009329\n",
            "Validation Loss:0.36528245359659195\n"
          ]
        },
        {
          "output_type": "stream",
          "name": "stderr",
          "text": [
            "\r 17%|█▋        | 5/30 [00:55<04:35, 11.03s/it]"
          ]
        },
        {
          "output_type": "stream",
          "name": "stdout",
          "text": [
            "Epoch: 4\n",
            "Validation Accuracy:87.83259391784668%\n",
            "Training Loss:0.3162595861644115\n",
            "Validation Loss:0.3372461274266243\n"
          ]
        },
        {
          "output_type": "stream",
          "name": "stderr",
          "text": [
            "\r 20%|██        | 6/30 [01:05<04:23, 10.98s/it]"
          ]
        },
        {
          "output_type": "stream",
          "name": "stdout",
          "text": [
            "Epoch: 5\n",
            "Validation Accuracy:87.86727786064148%\n",
            "Training Loss:0.29998117277644715\n",
            "Validation Loss:0.33646177003781\n"
          ]
        },
        {
          "output_type": "stream",
          "name": "stderr",
          "text": [
            "\r 23%|██▎       | 7/30 [01:17<04:13, 11.02s/it]"
          ]
        },
        {
          "output_type": "stream",
          "name": "stdout",
          "text": [
            "Epoch: 6\n",
            "Validation Accuracy:87.15961575508118%\n",
            "Training Loss:0.2860492954276643\n",
            "Validation Loss:0.34537236640850705\n"
          ]
        },
        {
          "output_type": "stream",
          "name": "stderr",
          "text": [
            "\r 27%|██▋       | 8/30 [01:28<04:02, 11.02s/it]"
          ]
        },
        {
          "output_type": "stream",
          "name": "stdout",
          "text": [
            "Epoch: 7\n",
            "Validation Accuracy:87.73069381713867%\n",
            "Training Loss:0.27599495494703075\n",
            "Validation Loss:0.3457593197623889\n"
          ]
        },
        {
          "output_type": "stream",
          "name": "stderr",
          "text": [
            "\r 30%|███       | 9/30 [01:39<03:56, 11.28s/it]"
          ]
        },
        {
          "output_type": "stream",
          "name": "stdout",
          "text": [
            "Epoch: 8\n",
            "Validation Accuracy:88.15599083900452%\n",
            "Training Loss:0.2605718781925597\n",
            "Validation Loss:0.33506383498509723\n"
          ]
        },
        {
          "output_type": "stream",
          "name": "stderr",
          "text": [
            "\r 33%|███▎      | 10/30 [01:50<03:43, 11.16s/it]"
          ]
        },
        {
          "output_type": "stream",
          "name": "stdout",
          "text": [
            "Epoch: 9\n",
            "Validation Accuracy:88.01658749580383%\n",
            "Training Loss:0.2614937998213858\n",
            "Validation Loss:0.3279826616247495\n"
          ]
        },
        {
          "output_type": "stream",
          "name": "stderr",
          "text": [
            "\r 37%|███▋      | 11/30 [02:02<03:33, 11.24s/it]"
          ]
        },
        {
          "output_type": "stream",
          "name": "stdout",
          "text": [
            "Epoch: 10\n",
            "Validation Accuracy:87.95360922813416%\n",
            "Training Loss:0.2515127993417236\n",
            "Validation Loss:0.34650419155756634\n"
          ]
        }
      ]
    },
    {
      "cell_type": "code",
      "source": [],
      "metadata": {
        "id": "H_9fhCuqIMxl"
      },
      "execution_count": null,
      "outputs": []
    }
  ],
  "metadata": {
    "accelerator": "GPU",
    "colab": {
      "gpuType": "T4",
      "machine_shape": "hm",
      "provenance": []
    },
    "kernelspec": {
      "display_name": "Python 3",
      "name": "python3"
    },
    "language_info": {
      "codemirror_mode": {
        "name": "ipython",
        "version": 3
      },
      "file_extension": ".py",
      "mimetype": "text/x-python",
      "name": "python",
      "nbconvert_exporter": "python",
      "pygments_lexer": "ipython3",
      "version": "3.9.13"
    }
  },
  "nbformat": 4,
  "nbformat_minor": 0
}